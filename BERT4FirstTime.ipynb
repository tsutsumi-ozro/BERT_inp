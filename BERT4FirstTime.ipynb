{
  "nbformat": 4,
  "nbformat_minor": 0,
  "metadata": {
    "colab": {
      "name": "BERT4FirstTime.ipynb",
      "provenance": [],
      "collapsed_sections": [],
      "authorship_tag": "ABX9TyPiYMqkOQw1f9ex42KTxpHQ",
      "include_colab_link": true
    },
    "kernelspec": {
      "name": "python3",
      "display_name": "Python 3"
    },
    "language_info": {
      "name": "python"
    },
    "widgets": {
      "application/vnd.jupyter.widget-state+json": {
        "c878f8bf46d7425fbab26201fc5d69f0": {
          "model_module": "@jupyter-widgets/controls",
          "model_name": "HBoxModel",
          "model_module_version": "1.5.0",
          "state": {
            "_dom_classes": [],
            "_model_module": "@jupyter-widgets/controls",
            "_model_module_version": "1.5.0",
            "_model_name": "HBoxModel",
            "_view_count": null,
            "_view_module": "@jupyter-widgets/controls",
            "_view_module_version": "1.5.0",
            "_view_name": "HBoxView",
            "box_style": "",
            "children": [
              "IPY_MODEL_a5af3d79b57c4155a793e3a0d98d1ee4",
              "IPY_MODEL_38f751e1edeb4d9e93b0b6c9f826dcc5",
              "IPY_MODEL_c49fbbb8bf0441d7a4d535b010bb3a5f"
            ],
            "layout": "IPY_MODEL_198a3b7d6e4c4198aaa7c259fcce70e8"
          }
        },
        "a5af3d79b57c4155a793e3a0d98d1ee4": {
          "model_module": "@jupyter-widgets/controls",
          "model_name": "HTMLModel",
          "model_module_version": "1.5.0",
          "state": {
            "_dom_classes": [],
            "_model_module": "@jupyter-widgets/controls",
            "_model_module_version": "1.5.0",
            "_model_name": "HTMLModel",
            "_view_count": null,
            "_view_module": "@jupyter-widgets/controls",
            "_view_module_version": "1.5.0",
            "_view_name": "HTMLView",
            "description": "",
            "description_tooltip": null,
            "layout": "IPY_MODEL_1d31f59a0873454bb262ba81923b23fa",
            "placeholder": "​",
            "style": "IPY_MODEL_956e66108d6744d6bdbc00aba315a8c7",
            "value": "Downloading: 100%"
          }
        },
        "38f751e1edeb4d9e93b0b6c9f826dcc5": {
          "model_module": "@jupyter-widgets/controls",
          "model_name": "FloatProgressModel",
          "model_module_version": "1.5.0",
          "state": {
            "_dom_classes": [],
            "_model_module": "@jupyter-widgets/controls",
            "_model_module_version": "1.5.0",
            "_model_name": "FloatProgressModel",
            "_view_count": null,
            "_view_module": "@jupyter-widgets/controls",
            "_view_module_version": "1.5.0",
            "_view_name": "ProgressView",
            "bar_style": "success",
            "description": "",
            "description_tooltip": null,
            "layout": "IPY_MODEL_c79709547b2e4723903772e36cfe93b1",
            "max": 231508,
            "min": 0,
            "orientation": "horizontal",
            "style": "IPY_MODEL_6f2d8203e7c84577b12165cc1a876ae8",
            "value": 231508
          }
        },
        "c49fbbb8bf0441d7a4d535b010bb3a5f": {
          "model_module": "@jupyter-widgets/controls",
          "model_name": "HTMLModel",
          "model_module_version": "1.5.0",
          "state": {
            "_dom_classes": [],
            "_model_module": "@jupyter-widgets/controls",
            "_model_module_version": "1.5.0",
            "_model_name": "HTMLModel",
            "_view_count": null,
            "_view_module": "@jupyter-widgets/controls",
            "_view_module_version": "1.5.0",
            "_view_name": "HTMLView",
            "description": "",
            "description_tooltip": null,
            "layout": "IPY_MODEL_acd3c2da26224ca196f262b7d43c4e35",
            "placeholder": "​",
            "style": "IPY_MODEL_81dddc958eb24fcea0bfdf4efdd3c0fd",
            "value": " 226k/226k [00:00&lt;00:00, 321kB/s]"
          }
        },
        "198a3b7d6e4c4198aaa7c259fcce70e8": {
          "model_module": "@jupyter-widgets/base",
          "model_name": "LayoutModel",
          "model_module_version": "1.2.0",
          "state": {
            "_model_module": "@jupyter-widgets/base",
            "_model_module_version": "1.2.0",
            "_model_name": "LayoutModel",
            "_view_count": null,
            "_view_module": "@jupyter-widgets/base",
            "_view_module_version": "1.2.0",
            "_view_name": "LayoutView",
            "align_content": null,
            "align_items": null,
            "align_self": null,
            "border": null,
            "bottom": null,
            "display": null,
            "flex": null,
            "flex_flow": null,
            "grid_area": null,
            "grid_auto_columns": null,
            "grid_auto_flow": null,
            "grid_auto_rows": null,
            "grid_column": null,
            "grid_gap": null,
            "grid_row": null,
            "grid_template_areas": null,
            "grid_template_columns": null,
            "grid_template_rows": null,
            "height": null,
            "justify_content": null,
            "justify_items": null,
            "left": null,
            "margin": null,
            "max_height": null,
            "max_width": null,
            "min_height": null,
            "min_width": null,
            "object_fit": null,
            "object_position": null,
            "order": null,
            "overflow": null,
            "overflow_x": null,
            "overflow_y": null,
            "padding": null,
            "right": null,
            "top": null,
            "visibility": null,
            "width": null
          }
        },
        "1d31f59a0873454bb262ba81923b23fa": {
          "model_module": "@jupyter-widgets/base",
          "model_name": "LayoutModel",
          "model_module_version": "1.2.0",
          "state": {
            "_model_module": "@jupyter-widgets/base",
            "_model_module_version": "1.2.0",
            "_model_name": "LayoutModel",
            "_view_count": null,
            "_view_module": "@jupyter-widgets/base",
            "_view_module_version": "1.2.0",
            "_view_name": "LayoutView",
            "align_content": null,
            "align_items": null,
            "align_self": null,
            "border": null,
            "bottom": null,
            "display": null,
            "flex": null,
            "flex_flow": null,
            "grid_area": null,
            "grid_auto_columns": null,
            "grid_auto_flow": null,
            "grid_auto_rows": null,
            "grid_column": null,
            "grid_gap": null,
            "grid_row": null,
            "grid_template_areas": null,
            "grid_template_columns": null,
            "grid_template_rows": null,
            "height": null,
            "justify_content": null,
            "justify_items": null,
            "left": null,
            "margin": null,
            "max_height": null,
            "max_width": null,
            "min_height": null,
            "min_width": null,
            "object_fit": null,
            "object_position": null,
            "order": null,
            "overflow": null,
            "overflow_x": null,
            "overflow_y": null,
            "padding": null,
            "right": null,
            "top": null,
            "visibility": null,
            "width": null
          }
        },
        "956e66108d6744d6bdbc00aba315a8c7": {
          "model_module": "@jupyter-widgets/controls",
          "model_name": "DescriptionStyleModel",
          "model_module_version": "1.5.0",
          "state": {
            "_model_module": "@jupyter-widgets/controls",
            "_model_module_version": "1.5.0",
            "_model_name": "DescriptionStyleModel",
            "_view_count": null,
            "_view_module": "@jupyter-widgets/base",
            "_view_module_version": "1.2.0",
            "_view_name": "StyleView",
            "description_width": ""
          }
        },
        "c79709547b2e4723903772e36cfe93b1": {
          "model_module": "@jupyter-widgets/base",
          "model_name": "LayoutModel",
          "model_module_version": "1.2.0",
          "state": {
            "_model_module": "@jupyter-widgets/base",
            "_model_module_version": "1.2.0",
            "_model_name": "LayoutModel",
            "_view_count": null,
            "_view_module": "@jupyter-widgets/base",
            "_view_module_version": "1.2.0",
            "_view_name": "LayoutView",
            "align_content": null,
            "align_items": null,
            "align_self": null,
            "border": null,
            "bottom": null,
            "display": null,
            "flex": null,
            "flex_flow": null,
            "grid_area": null,
            "grid_auto_columns": null,
            "grid_auto_flow": null,
            "grid_auto_rows": null,
            "grid_column": null,
            "grid_gap": null,
            "grid_row": null,
            "grid_template_areas": null,
            "grid_template_columns": null,
            "grid_template_rows": null,
            "height": null,
            "justify_content": null,
            "justify_items": null,
            "left": null,
            "margin": null,
            "max_height": null,
            "max_width": null,
            "min_height": null,
            "min_width": null,
            "object_fit": null,
            "object_position": null,
            "order": null,
            "overflow": null,
            "overflow_x": null,
            "overflow_y": null,
            "padding": null,
            "right": null,
            "top": null,
            "visibility": null,
            "width": null
          }
        },
        "6f2d8203e7c84577b12165cc1a876ae8": {
          "model_module": "@jupyter-widgets/controls",
          "model_name": "ProgressStyleModel",
          "model_module_version": "1.5.0",
          "state": {
            "_model_module": "@jupyter-widgets/controls",
            "_model_module_version": "1.5.0",
            "_model_name": "ProgressStyleModel",
            "_view_count": null,
            "_view_module": "@jupyter-widgets/base",
            "_view_module_version": "1.2.0",
            "_view_name": "StyleView",
            "bar_color": null,
            "description_width": ""
          }
        },
        "acd3c2da26224ca196f262b7d43c4e35": {
          "model_module": "@jupyter-widgets/base",
          "model_name": "LayoutModel",
          "model_module_version": "1.2.0",
          "state": {
            "_model_module": "@jupyter-widgets/base",
            "_model_module_version": "1.2.0",
            "_model_name": "LayoutModel",
            "_view_count": null,
            "_view_module": "@jupyter-widgets/base",
            "_view_module_version": "1.2.0",
            "_view_name": "LayoutView",
            "align_content": null,
            "align_items": null,
            "align_self": null,
            "border": null,
            "bottom": null,
            "display": null,
            "flex": null,
            "flex_flow": null,
            "grid_area": null,
            "grid_auto_columns": null,
            "grid_auto_flow": null,
            "grid_auto_rows": null,
            "grid_column": null,
            "grid_gap": null,
            "grid_row": null,
            "grid_template_areas": null,
            "grid_template_columns": null,
            "grid_template_rows": null,
            "height": null,
            "justify_content": null,
            "justify_items": null,
            "left": null,
            "margin": null,
            "max_height": null,
            "max_width": null,
            "min_height": null,
            "min_width": null,
            "object_fit": null,
            "object_position": null,
            "order": null,
            "overflow": null,
            "overflow_x": null,
            "overflow_y": null,
            "padding": null,
            "right": null,
            "top": null,
            "visibility": null,
            "width": null
          }
        },
        "81dddc958eb24fcea0bfdf4efdd3c0fd": {
          "model_module": "@jupyter-widgets/controls",
          "model_name": "DescriptionStyleModel",
          "model_module_version": "1.5.0",
          "state": {
            "_model_module": "@jupyter-widgets/controls",
            "_model_module_version": "1.5.0",
            "_model_name": "DescriptionStyleModel",
            "_view_count": null,
            "_view_module": "@jupyter-widgets/base",
            "_view_module_version": "1.2.0",
            "_view_name": "StyleView",
            "description_width": ""
          }
        },
        "98b9ba9ed1fe4645bab7b78a933b197a": {
          "model_module": "@jupyter-widgets/controls",
          "model_name": "HBoxModel",
          "model_module_version": "1.5.0",
          "state": {
            "_dom_classes": [],
            "_model_module": "@jupyter-widgets/controls",
            "_model_module_version": "1.5.0",
            "_model_name": "HBoxModel",
            "_view_count": null,
            "_view_module": "@jupyter-widgets/controls",
            "_view_module_version": "1.5.0",
            "_view_name": "HBoxView",
            "box_style": "",
            "children": [
              "IPY_MODEL_3bd18decd41644bb9553fc0fc43e33fd",
              "IPY_MODEL_e4882c3134134b50b7faa077b76cb47d",
              "IPY_MODEL_d2b7469940ab43f780c3e92951834fab"
            ],
            "layout": "IPY_MODEL_d2f856e8a8ba49d78c74a6b540d03997"
          }
        },
        "3bd18decd41644bb9553fc0fc43e33fd": {
          "model_module": "@jupyter-widgets/controls",
          "model_name": "HTMLModel",
          "model_module_version": "1.5.0",
          "state": {
            "_dom_classes": [],
            "_model_module": "@jupyter-widgets/controls",
            "_model_module_version": "1.5.0",
            "_model_name": "HTMLModel",
            "_view_count": null,
            "_view_module": "@jupyter-widgets/controls",
            "_view_module_version": "1.5.0",
            "_view_name": "HTMLView",
            "description": "",
            "description_tooltip": null,
            "layout": "IPY_MODEL_9e280616a57342cd99a08527cd0285b9",
            "placeholder": "​",
            "style": "IPY_MODEL_61e503bdcfd44688b3b06d7512269ddf",
            "value": "Downloading: 100%"
          }
        },
        "e4882c3134134b50b7faa077b76cb47d": {
          "model_module": "@jupyter-widgets/controls",
          "model_name": "FloatProgressModel",
          "model_module_version": "1.5.0",
          "state": {
            "_dom_classes": [],
            "_model_module": "@jupyter-widgets/controls",
            "_model_module_version": "1.5.0",
            "_model_name": "FloatProgressModel",
            "_view_count": null,
            "_view_module": "@jupyter-widgets/controls",
            "_view_module_version": "1.5.0",
            "_view_name": "ProgressView",
            "bar_style": "success",
            "description": "",
            "description_tooltip": null,
            "layout": "IPY_MODEL_4f841b6542b34452848ca8be6ed8d046",
            "max": 28,
            "min": 0,
            "orientation": "horizontal",
            "style": "IPY_MODEL_900d4973cb32403db28d7c6d8d8682b3",
            "value": 28
          }
        },
        "d2b7469940ab43f780c3e92951834fab": {
          "model_module": "@jupyter-widgets/controls",
          "model_name": "HTMLModel",
          "model_module_version": "1.5.0",
          "state": {
            "_dom_classes": [],
            "_model_module": "@jupyter-widgets/controls",
            "_model_module_version": "1.5.0",
            "_model_name": "HTMLModel",
            "_view_count": null,
            "_view_module": "@jupyter-widgets/controls",
            "_view_module_version": "1.5.0",
            "_view_name": "HTMLView",
            "description": "",
            "description_tooltip": null,
            "layout": "IPY_MODEL_ecda94004d364f41ac19a8dcdfe24e2a",
            "placeholder": "​",
            "style": "IPY_MODEL_dd62ca64a58e46fbaac229acad42f1f8",
            "value": " 28.0/28.0 [00:00&lt;00:00, 469B/s]"
          }
        },
        "d2f856e8a8ba49d78c74a6b540d03997": {
          "model_module": "@jupyter-widgets/base",
          "model_name": "LayoutModel",
          "model_module_version": "1.2.0",
          "state": {
            "_model_module": "@jupyter-widgets/base",
            "_model_module_version": "1.2.0",
            "_model_name": "LayoutModel",
            "_view_count": null,
            "_view_module": "@jupyter-widgets/base",
            "_view_module_version": "1.2.0",
            "_view_name": "LayoutView",
            "align_content": null,
            "align_items": null,
            "align_self": null,
            "border": null,
            "bottom": null,
            "display": null,
            "flex": null,
            "flex_flow": null,
            "grid_area": null,
            "grid_auto_columns": null,
            "grid_auto_flow": null,
            "grid_auto_rows": null,
            "grid_column": null,
            "grid_gap": null,
            "grid_row": null,
            "grid_template_areas": null,
            "grid_template_columns": null,
            "grid_template_rows": null,
            "height": null,
            "justify_content": null,
            "justify_items": null,
            "left": null,
            "margin": null,
            "max_height": null,
            "max_width": null,
            "min_height": null,
            "min_width": null,
            "object_fit": null,
            "object_position": null,
            "order": null,
            "overflow": null,
            "overflow_x": null,
            "overflow_y": null,
            "padding": null,
            "right": null,
            "top": null,
            "visibility": null,
            "width": null
          }
        },
        "9e280616a57342cd99a08527cd0285b9": {
          "model_module": "@jupyter-widgets/base",
          "model_name": "LayoutModel",
          "model_module_version": "1.2.0",
          "state": {
            "_model_module": "@jupyter-widgets/base",
            "_model_module_version": "1.2.0",
            "_model_name": "LayoutModel",
            "_view_count": null,
            "_view_module": "@jupyter-widgets/base",
            "_view_module_version": "1.2.0",
            "_view_name": "LayoutView",
            "align_content": null,
            "align_items": null,
            "align_self": null,
            "border": null,
            "bottom": null,
            "display": null,
            "flex": null,
            "flex_flow": null,
            "grid_area": null,
            "grid_auto_columns": null,
            "grid_auto_flow": null,
            "grid_auto_rows": null,
            "grid_column": null,
            "grid_gap": null,
            "grid_row": null,
            "grid_template_areas": null,
            "grid_template_columns": null,
            "grid_template_rows": null,
            "height": null,
            "justify_content": null,
            "justify_items": null,
            "left": null,
            "margin": null,
            "max_height": null,
            "max_width": null,
            "min_height": null,
            "min_width": null,
            "object_fit": null,
            "object_position": null,
            "order": null,
            "overflow": null,
            "overflow_x": null,
            "overflow_y": null,
            "padding": null,
            "right": null,
            "top": null,
            "visibility": null,
            "width": null
          }
        },
        "61e503bdcfd44688b3b06d7512269ddf": {
          "model_module": "@jupyter-widgets/controls",
          "model_name": "DescriptionStyleModel",
          "model_module_version": "1.5.0",
          "state": {
            "_model_module": "@jupyter-widgets/controls",
            "_model_module_version": "1.5.0",
            "_model_name": "DescriptionStyleModel",
            "_view_count": null,
            "_view_module": "@jupyter-widgets/base",
            "_view_module_version": "1.2.0",
            "_view_name": "StyleView",
            "description_width": ""
          }
        },
        "4f841b6542b34452848ca8be6ed8d046": {
          "model_module": "@jupyter-widgets/base",
          "model_name": "LayoutModel",
          "model_module_version": "1.2.0",
          "state": {
            "_model_module": "@jupyter-widgets/base",
            "_model_module_version": "1.2.0",
            "_model_name": "LayoutModel",
            "_view_count": null,
            "_view_module": "@jupyter-widgets/base",
            "_view_module_version": "1.2.0",
            "_view_name": "LayoutView",
            "align_content": null,
            "align_items": null,
            "align_self": null,
            "border": null,
            "bottom": null,
            "display": null,
            "flex": null,
            "flex_flow": null,
            "grid_area": null,
            "grid_auto_columns": null,
            "grid_auto_flow": null,
            "grid_auto_rows": null,
            "grid_column": null,
            "grid_gap": null,
            "grid_row": null,
            "grid_template_areas": null,
            "grid_template_columns": null,
            "grid_template_rows": null,
            "height": null,
            "justify_content": null,
            "justify_items": null,
            "left": null,
            "margin": null,
            "max_height": null,
            "max_width": null,
            "min_height": null,
            "min_width": null,
            "object_fit": null,
            "object_position": null,
            "order": null,
            "overflow": null,
            "overflow_x": null,
            "overflow_y": null,
            "padding": null,
            "right": null,
            "top": null,
            "visibility": null,
            "width": null
          }
        },
        "900d4973cb32403db28d7c6d8d8682b3": {
          "model_module": "@jupyter-widgets/controls",
          "model_name": "ProgressStyleModel",
          "model_module_version": "1.5.0",
          "state": {
            "_model_module": "@jupyter-widgets/controls",
            "_model_module_version": "1.5.0",
            "_model_name": "ProgressStyleModel",
            "_view_count": null,
            "_view_module": "@jupyter-widgets/base",
            "_view_module_version": "1.2.0",
            "_view_name": "StyleView",
            "bar_color": null,
            "description_width": ""
          }
        },
        "ecda94004d364f41ac19a8dcdfe24e2a": {
          "model_module": "@jupyter-widgets/base",
          "model_name": "LayoutModel",
          "model_module_version": "1.2.0",
          "state": {
            "_model_module": "@jupyter-widgets/base",
            "_model_module_version": "1.2.0",
            "_model_name": "LayoutModel",
            "_view_count": null,
            "_view_module": "@jupyter-widgets/base",
            "_view_module_version": "1.2.0",
            "_view_name": "LayoutView",
            "align_content": null,
            "align_items": null,
            "align_self": null,
            "border": null,
            "bottom": null,
            "display": null,
            "flex": null,
            "flex_flow": null,
            "grid_area": null,
            "grid_auto_columns": null,
            "grid_auto_flow": null,
            "grid_auto_rows": null,
            "grid_column": null,
            "grid_gap": null,
            "grid_row": null,
            "grid_template_areas": null,
            "grid_template_columns": null,
            "grid_template_rows": null,
            "height": null,
            "justify_content": null,
            "justify_items": null,
            "left": null,
            "margin": null,
            "max_height": null,
            "max_width": null,
            "min_height": null,
            "min_width": null,
            "object_fit": null,
            "object_position": null,
            "order": null,
            "overflow": null,
            "overflow_x": null,
            "overflow_y": null,
            "padding": null,
            "right": null,
            "top": null,
            "visibility": null,
            "width": null
          }
        },
        "dd62ca64a58e46fbaac229acad42f1f8": {
          "model_module": "@jupyter-widgets/controls",
          "model_name": "DescriptionStyleModel",
          "model_module_version": "1.5.0",
          "state": {
            "_model_module": "@jupyter-widgets/controls",
            "_model_module_version": "1.5.0",
            "_model_name": "DescriptionStyleModel",
            "_view_count": null,
            "_view_module": "@jupyter-widgets/base",
            "_view_module_version": "1.2.0",
            "_view_name": "StyleView",
            "description_width": ""
          }
        },
        "5b0650d10fb3409bb2570c9a961228ff": {
          "model_module": "@jupyter-widgets/controls",
          "model_name": "HBoxModel",
          "model_module_version": "1.5.0",
          "state": {
            "_dom_classes": [],
            "_model_module": "@jupyter-widgets/controls",
            "_model_module_version": "1.5.0",
            "_model_name": "HBoxModel",
            "_view_count": null,
            "_view_module": "@jupyter-widgets/controls",
            "_view_module_version": "1.5.0",
            "_view_name": "HBoxView",
            "box_style": "",
            "children": [
              "IPY_MODEL_eda65492cca643229eb1b8a20350931f",
              "IPY_MODEL_ddea7893742748f788d85e14c8ba86bd",
              "IPY_MODEL_3f7a341585b440cca1818e66f44e47aa"
            ],
            "layout": "IPY_MODEL_88894489ae91447eacdf7f358bd8c804"
          }
        },
        "eda65492cca643229eb1b8a20350931f": {
          "model_module": "@jupyter-widgets/controls",
          "model_name": "HTMLModel",
          "model_module_version": "1.5.0",
          "state": {
            "_dom_classes": [],
            "_model_module": "@jupyter-widgets/controls",
            "_model_module_version": "1.5.0",
            "_model_name": "HTMLModel",
            "_view_count": null,
            "_view_module": "@jupyter-widgets/controls",
            "_view_module_version": "1.5.0",
            "_view_name": "HTMLView",
            "description": "",
            "description_tooltip": null,
            "layout": "IPY_MODEL_e2504705f8564c4f9b88e159c46cf86a",
            "placeholder": "​",
            "style": "IPY_MODEL_b13f782f39bd4c70843ac33577db7b2b",
            "value": "Downloading: 100%"
          }
        },
        "ddea7893742748f788d85e14c8ba86bd": {
          "model_module": "@jupyter-widgets/controls",
          "model_name": "FloatProgressModel",
          "model_module_version": "1.5.0",
          "state": {
            "_dom_classes": [],
            "_model_module": "@jupyter-widgets/controls",
            "_model_module_version": "1.5.0",
            "_model_name": "FloatProgressModel",
            "_view_count": null,
            "_view_module": "@jupyter-widgets/controls",
            "_view_module_version": "1.5.0",
            "_view_name": "ProgressView",
            "bar_style": "success",
            "description": "",
            "description_tooltip": null,
            "layout": "IPY_MODEL_b0af2c1237274722b83149f6b3784c99",
            "max": 483,
            "min": 0,
            "orientation": "horizontal",
            "style": "IPY_MODEL_12bbe4dd87484ab4ae62a2609e1fabba",
            "value": 483
          }
        },
        "3f7a341585b440cca1818e66f44e47aa": {
          "model_module": "@jupyter-widgets/controls",
          "model_name": "HTMLModel",
          "model_module_version": "1.5.0",
          "state": {
            "_dom_classes": [],
            "_model_module": "@jupyter-widgets/controls",
            "_model_module_version": "1.5.0",
            "_model_name": "HTMLModel",
            "_view_count": null,
            "_view_module": "@jupyter-widgets/controls",
            "_view_module_version": "1.5.0",
            "_view_name": "HTMLView",
            "description": "",
            "description_tooltip": null,
            "layout": "IPY_MODEL_e662bde72ac3449283b4d6d7c415341a",
            "placeholder": "​",
            "style": "IPY_MODEL_995f1f7a5f22412d90e015650c6c31f6",
            "value": " 483/483 [00:00&lt;00:00, 7.61kB/s]"
          }
        },
        "88894489ae91447eacdf7f358bd8c804": {
          "model_module": "@jupyter-widgets/base",
          "model_name": "LayoutModel",
          "model_module_version": "1.2.0",
          "state": {
            "_model_module": "@jupyter-widgets/base",
            "_model_module_version": "1.2.0",
            "_model_name": "LayoutModel",
            "_view_count": null,
            "_view_module": "@jupyter-widgets/base",
            "_view_module_version": "1.2.0",
            "_view_name": "LayoutView",
            "align_content": null,
            "align_items": null,
            "align_self": null,
            "border": null,
            "bottom": null,
            "display": null,
            "flex": null,
            "flex_flow": null,
            "grid_area": null,
            "grid_auto_columns": null,
            "grid_auto_flow": null,
            "grid_auto_rows": null,
            "grid_column": null,
            "grid_gap": null,
            "grid_row": null,
            "grid_template_areas": null,
            "grid_template_columns": null,
            "grid_template_rows": null,
            "height": null,
            "justify_content": null,
            "justify_items": null,
            "left": null,
            "margin": null,
            "max_height": null,
            "max_width": null,
            "min_height": null,
            "min_width": null,
            "object_fit": null,
            "object_position": null,
            "order": null,
            "overflow": null,
            "overflow_x": null,
            "overflow_y": null,
            "padding": null,
            "right": null,
            "top": null,
            "visibility": null,
            "width": null
          }
        },
        "e2504705f8564c4f9b88e159c46cf86a": {
          "model_module": "@jupyter-widgets/base",
          "model_name": "LayoutModel",
          "model_module_version": "1.2.0",
          "state": {
            "_model_module": "@jupyter-widgets/base",
            "_model_module_version": "1.2.0",
            "_model_name": "LayoutModel",
            "_view_count": null,
            "_view_module": "@jupyter-widgets/base",
            "_view_module_version": "1.2.0",
            "_view_name": "LayoutView",
            "align_content": null,
            "align_items": null,
            "align_self": null,
            "border": null,
            "bottom": null,
            "display": null,
            "flex": null,
            "flex_flow": null,
            "grid_area": null,
            "grid_auto_columns": null,
            "grid_auto_flow": null,
            "grid_auto_rows": null,
            "grid_column": null,
            "grid_gap": null,
            "grid_row": null,
            "grid_template_areas": null,
            "grid_template_columns": null,
            "grid_template_rows": null,
            "height": null,
            "justify_content": null,
            "justify_items": null,
            "left": null,
            "margin": null,
            "max_height": null,
            "max_width": null,
            "min_height": null,
            "min_width": null,
            "object_fit": null,
            "object_position": null,
            "order": null,
            "overflow": null,
            "overflow_x": null,
            "overflow_y": null,
            "padding": null,
            "right": null,
            "top": null,
            "visibility": null,
            "width": null
          }
        },
        "b13f782f39bd4c70843ac33577db7b2b": {
          "model_module": "@jupyter-widgets/controls",
          "model_name": "DescriptionStyleModel",
          "model_module_version": "1.5.0",
          "state": {
            "_model_module": "@jupyter-widgets/controls",
            "_model_module_version": "1.5.0",
            "_model_name": "DescriptionStyleModel",
            "_view_count": null,
            "_view_module": "@jupyter-widgets/base",
            "_view_module_version": "1.2.0",
            "_view_name": "StyleView",
            "description_width": ""
          }
        },
        "b0af2c1237274722b83149f6b3784c99": {
          "model_module": "@jupyter-widgets/base",
          "model_name": "LayoutModel",
          "model_module_version": "1.2.0",
          "state": {
            "_model_module": "@jupyter-widgets/base",
            "_model_module_version": "1.2.0",
            "_model_name": "LayoutModel",
            "_view_count": null,
            "_view_module": "@jupyter-widgets/base",
            "_view_module_version": "1.2.0",
            "_view_name": "LayoutView",
            "align_content": null,
            "align_items": null,
            "align_self": null,
            "border": null,
            "bottom": null,
            "display": null,
            "flex": null,
            "flex_flow": null,
            "grid_area": null,
            "grid_auto_columns": null,
            "grid_auto_flow": null,
            "grid_auto_rows": null,
            "grid_column": null,
            "grid_gap": null,
            "grid_row": null,
            "grid_template_areas": null,
            "grid_template_columns": null,
            "grid_template_rows": null,
            "height": null,
            "justify_content": null,
            "justify_items": null,
            "left": null,
            "margin": null,
            "max_height": null,
            "max_width": null,
            "min_height": null,
            "min_width": null,
            "object_fit": null,
            "object_position": null,
            "order": null,
            "overflow": null,
            "overflow_x": null,
            "overflow_y": null,
            "padding": null,
            "right": null,
            "top": null,
            "visibility": null,
            "width": null
          }
        },
        "12bbe4dd87484ab4ae62a2609e1fabba": {
          "model_module": "@jupyter-widgets/controls",
          "model_name": "ProgressStyleModel",
          "model_module_version": "1.5.0",
          "state": {
            "_model_module": "@jupyter-widgets/controls",
            "_model_module_version": "1.5.0",
            "_model_name": "ProgressStyleModel",
            "_view_count": null,
            "_view_module": "@jupyter-widgets/base",
            "_view_module_version": "1.2.0",
            "_view_name": "StyleView",
            "bar_color": null,
            "description_width": ""
          }
        },
        "e662bde72ac3449283b4d6d7c415341a": {
          "model_module": "@jupyter-widgets/base",
          "model_name": "LayoutModel",
          "model_module_version": "1.2.0",
          "state": {
            "_model_module": "@jupyter-widgets/base",
            "_model_module_version": "1.2.0",
            "_model_name": "LayoutModel",
            "_view_count": null,
            "_view_module": "@jupyter-widgets/base",
            "_view_module_version": "1.2.0",
            "_view_name": "LayoutView",
            "align_content": null,
            "align_items": null,
            "align_self": null,
            "border": null,
            "bottom": null,
            "display": null,
            "flex": null,
            "flex_flow": null,
            "grid_area": null,
            "grid_auto_columns": null,
            "grid_auto_flow": null,
            "grid_auto_rows": null,
            "grid_column": null,
            "grid_gap": null,
            "grid_row": null,
            "grid_template_areas": null,
            "grid_template_columns": null,
            "grid_template_rows": null,
            "height": null,
            "justify_content": null,
            "justify_items": null,
            "left": null,
            "margin": null,
            "max_height": null,
            "max_width": null,
            "min_height": null,
            "min_width": null,
            "object_fit": null,
            "object_position": null,
            "order": null,
            "overflow": null,
            "overflow_x": null,
            "overflow_y": null,
            "padding": null,
            "right": null,
            "top": null,
            "visibility": null,
            "width": null
          }
        },
        "995f1f7a5f22412d90e015650c6c31f6": {
          "model_module": "@jupyter-widgets/controls",
          "model_name": "DescriptionStyleModel",
          "model_module_version": "1.5.0",
          "state": {
            "_model_module": "@jupyter-widgets/controls",
            "_model_module_version": "1.5.0",
            "_model_name": "DescriptionStyleModel",
            "_view_count": null,
            "_view_module": "@jupyter-widgets/base",
            "_view_module_version": "1.2.0",
            "_view_name": "StyleView",
            "description_width": ""
          }
        },
        "9c52a5cc9016499e94e8154385f3de72": {
          "model_module": "@jupyter-widgets/controls",
          "model_name": "HBoxModel",
          "model_module_version": "1.5.0",
          "state": {
            "_dom_classes": [],
            "_model_module": "@jupyter-widgets/controls",
            "_model_module_version": "1.5.0",
            "_model_name": "HBoxModel",
            "_view_count": null,
            "_view_module": "@jupyter-widgets/controls",
            "_view_module_version": "1.5.0",
            "_view_name": "HBoxView",
            "box_style": "",
            "children": [
              "IPY_MODEL_83ca92a3472d4f709cc2a377bade8716",
              "IPY_MODEL_5abebce5cf604d9e82992e14ae32d251",
              "IPY_MODEL_5c8cebd6a50441589239afc67068ebae"
            ],
            "layout": "IPY_MODEL_5dea4c5003b74f9793646d2c5cfa5868"
          }
        },
        "83ca92a3472d4f709cc2a377bade8716": {
          "model_module": "@jupyter-widgets/controls",
          "model_name": "HTMLModel",
          "model_module_version": "1.5.0",
          "state": {
            "_dom_classes": [],
            "_model_module": "@jupyter-widgets/controls",
            "_model_module_version": "1.5.0",
            "_model_name": "HTMLModel",
            "_view_count": null,
            "_view_module": "@jupyter-widgets/controls",
            "_view_module_version": "1.5.0",
            "_view_name": "HTMLView",
            "description": "",
            "description_tooltip": null,
            "layout": "IPY_MODEL_a8042002593b47bd880dfc6457182bd8",
            "placeholder": "​",
            "style": "IPY_MODEL_a1d027548de844d7bcd0e71dc986d85c",
            "value": "Downloading: 100%"
          }
        },
        "5abebce5cf604d9e82992e14ae32d251": {
          "model_module": "@jupyter-widgets/controls",
          "model_name": "FloatProgressModel",
          "model_module_version": "1.5.0",
          "state": {
            "_dom_classes": [],
            "_model_module": "@jupyter-widgets/controls",
            "_model_module_version": "1.5.0",
            "_model_name": "FloatProgressModel",
            "_view_count": null,
            "_view_module": "@jupyter-widgets/controls",
            "_view_module_version": "1.5.0",
            "_view_name": "ProgressView",
            "bar_style": "success",
            "description": "",
            "description_tooltip": null,
            "layout": "IPY_MODEL_68a1a15feb564a25b12dd67dff347caf",
            "max": 267967963,
            "min": 0,
            "orientation": "horizontal",
            "style": "IPY_MODEL_a4da3a38aace4ffda37733f1298f9d98",
            "value": 267967963
          }
        },
        "5c8cebd6a50441589239afc67068ebae": {
          "model_module": "@jupyter-widgets/controls",
          "model_name": "HTMLModel",
          "model_module_version": "1.5.0",
          "state": {
            "_dom_classes": [],
            "_model_module": "@jupyter-widgets/controls",
            "_model_module_version": "1.5.0",
            "_model_name": "HTMLModel",
            "_view_count": null,
            "_view_module": "@jupyter-widgets/controls",
            "_view_module_version": "1.5.0",
            "_view_name": "HTMLView",
            "description": "",
            "description_tooltip": null,
            "layout": "IPY_MODEL_b59248fadc93458c89807b4b29296502",
            "placeholder": "​",
            "style": "IPY_MODEL_fc0899f2a31046c0a8ed95124bb9303e",
            "value": " 256M/256M [00:07&lt;00:00, 40.2MB/s]"
          }
        },
        "5dea4c5003b74f9793646d2c5cfa5868": {
          "model_module": "@jupyter-widgets/base",
          "model_name": "LayoutModel",
          "model_module_version": "1.2.0",
          "state": {
            "_model_module": "@jupyter-widgets/base",
            "_model_module_version": "1.2.0",
            "_model_name": "LayoutModel",
            "_view_count": null,
            "_view_module": "@jupyter-widgets/base",
            "_view_module_version": "1.2.0",
            "_view_name": "LayoutView",
            "align_content": null,
            "align_items": null,
            "align_self": null,
            "border": null,
            "bottom": null,
            "display": null,
            "flex": null,
            "flex_flow": null,
            "grid_area": null,
            "grid_auto_columns": null,
            "grid_auto_flow": null,
            "grid_auto_rows": null,
            "grid_column": null,
            "grid_gap": null,
            "grid_row": null,
            "grid_template_areas": null,
            "grid_template_columns": null,
            "grid_template_rows": null,
            "height": null,
            "justify_content": null,
            "justify_items": null,
            "left": null,
            "margin": null,
            "max_height": null,
            "max_width": null,
            "min_height": null,
            "min_width": null,
            "object_fit": null,
            "object_position": null,
            "order": null,
            "overflow": null,
            "overflow_x": null,
            "overflow_y": null,
            "padding": null,
            "right": null,
            "top": null,
            "visibility": null,
            "width": null
          }
        },
        "a8042002593b47bd880dfc6457182bd8": {
          "model_module": "@jupyter-widgets/base",
          "model_name": "LayoutModel",
          "model_module_version": "1.2.0",
          "state": {
            "_model_module": "@jupyter-widgets/base",
            "_model_module_version": "1.2.0",
            "_model_name": "LayoutModel",
            "_view_count": null,
            "_view_module": "@jupyter-widgets/base",
            "_view_module_version": "1.2.0",
            "_view_name": "LayoutView",
            "align_content": null,
            "align_items": null,
            "align_self": null,
            "border": null,
            "bottom": null,
            "display": null,
            "flex": null,
            "flex_flow": null,
            "grid_area": null,
            "grid_auto_columns": null,
            "grid_auto_flow": null,
            "grid_auto_rows": null,
            "grid_column": null,
            "grid_gap": null,
            "grid_row": null,
            "grid_template_areas": null,
            "grid_template_columns": null,
            "grid_template_rows": null,
            "height": null,
            "justify_content": null,
            "justify_items": null,
            "left": null,
            "margin": null,
            "max_height": null,
            "max_width": null,
            "min_height": null,
            "min_width": null,
            "object_fit": null,
            "object_position": null,
            "order": null,
            "overflow": null,
            "overflow_x": null,
            "overflow_y": null,
            "padding": null,
            "right": null,
            "top": null,
            "visibility": null,
            "width": null
          }
        },
        "a1d027548de844d7bcd0e71dc986d85c": {
          "model_module": "@jupyter-widgets/controls",
          "model_name": "DescriptionStyleModel",
          "model_module_version": "1.5.0",
          "state": {
            "_model_module": "@jupyter-widgets/controls",
            "_model_module_version": "1.5.0",
            "_model_name": "DescriptionStyleModel",
            "_view_count": null,
            "_view_module": "@jupyter-widgets/base",
            "_view_module_version": "1.2.0",
            "_view_name": "StyleView",
            "description_width": ""
          }
        },
        "68a1a15feb564a25b12dd67dff347caf": {
          "model_module": "@jupyter-widgets/base",
          "model_name": "LayoutModel",
          "model_module_version": "1.2.0",
          "state": {
            "_model_module": "@jupyter-widgets/base",
            "_model_module_version": "1.2.0",
            "_model_name": "LayoutModel",
            "_view_count": null,
            "_view_module": "@jupyter-widgets/base",
            "_view_module_version": "1.2.0",
            "_view_name": "LayoutView",
            "align_content": null,
            "align_items": null,
            "align_self": null,
            "border": null,
            "bottom": null,
            "display": null,
            "flex": null,
            "flex_flow": null,
            "grid_area": null,
            "grid_auto_columns": null,
            "grid_auto_flow": null,
            "grid_auto_rows": null,
            "grid_column": null,
            "grid_gap": null,
            "grid_row": null,
            "grid_template_areas": null,
            "grid_template_columns": null,
            "grid_template_rows": null,
            "height": null,
            "justify_content": null,
            "justify_items": null,
            "left": null,
            "margin": null,
            "max_height": null,
            "max_width": null,
            "min_height": null,
            "min_width": null,
            "object_fit": null,
            "object_position": null,
            "order": null,
            "overflow": null,
            "overflow_x": null,
            "overflow_y": null,
            "padding": null,
            "right": null,
            "top": null,
            "visibility": null,
            "width": null
          }
        },
        "a4da3a38aace4ffda37733f1298f9d98": {
          "model_module": "@jupyter-widgets/controls",
          "model_name": "ProgressStyleModel",
          "model_module_version": "1.5.0",
          "state": {
            "_model_module": "@jupyter-widgets/controls",
            "_model_module_version": "1.5.0",
            "_model_name": "ProgressStyleModel",
            "_view_count": null,
            "_view_module": "@jupyter-widgets/base",
            "_view_module_version": "1.2.0",
            "_view_name": "StyleView",
            "bar_color": null,
            "description_width": ""
          }
        },
        "b59248fadc93458c89807b4b29296502": {
          "model_module": "@jupyter-widgets/base",
          "model_name": "LayoutModel",
          "model_module_version": "1.2.0",
          "state": {
            "_model_module": "@jupyter-widgets/base",
            "_model_module_version": "1.2.0",
            "_model_name": "LayoutModel",
            "_view_count": null,
            "_view_module": "@jupyter-widgets/base",
            "_view_module_version": "1.2.0",
            "_view_name": "LayoutView",
            "align_content": null,
            "align_items": null,
            "align_self": null,
            "border": null,
            "bottom": null,
            "display": null,
            "flex": null,
            "flex_flow": null,
            "grid_area": null,
            "grid_auto_columns": null,
            "grid_auto_flow": null,
            "grid_auto_rows": null,
            "grid_column": null,
            "grid_gap": null,
            "grid_row": null,
            "grid_template_areas": null,
            "grid_template_columns": null,
            "grid_template_rows": null,
            "height": null,
            "justify_content": null,
            "justify_items": null,
            "left": null,
            "margin": null,
            "max_height": null,
            "max_width": null,
            "min_height": null,
            "min_width": null,
            "object_fit": null,
            "object_position": null,
            "order": null,
            "overflow": null,
            "overflow_x": null,
            "overflow_y": null,
            "padding": null,
            "right": null,
            "top": null,
            "visibility": null,
            "width": null
          }
        },
        "fc0899f2a31046c0a8ed95124bb9303e": {
          "model_module": "@jupyter-widgets/controls",
          "model_name": "DescriptionStyleModel",
          "model_module_version": "1.5.0",
          "state": {
            "_model_module": "@jupyter-widgets/controls",
            "_model_module_version": "1.5.0",
            "_model_name": "DescriptionStyleModel",
            "_view_count": null,
            "_view_module": "@jupyter-widgets/base",
            "_view_module_version": "1.2.0",
            "_view_name": "StyleView",
            "description_width": ""
          }
        },
        "eaa5a8a2cb9f484a82f840b8291eeaeb": {
          "model_module": "@jupyter-widgets/controls",
          "model_name": "HBoxModel",
          "model_module_version": "1.5.0",
          "state": {
            "_dom_classes": [],
            "_model_module": "@jupyter-widgets/controls",
            "_model_module_version": "1.5.0",
            "_model_name": "HBoxModel",
            "_view_count": null,
            "_view_module": "@jupyter-widgets/controls",
            "_view_module_version": "1.5.0",
            "_view_name": "HBoxView",
            "box_style": "",
            "children": [
              "IPY_MODEL_7078df5d991949d09aa57fa02713fda9",
              "IPY_MODEL_ce94ff95d05c4b2781e5613fa19023d0",
              "IPY_MODEL_9118d8e4c1e546bca980d6df6bd8e14d"
            ],
            "layout": "IPY_MODEL_11fc7d45691643c98b7ab2ccce533aea"
          }
        },
        "7078df5d991949d09aa57fa02713fda9": {
          "model_module": "@jupyter-widgets/controls",
          "model_name": "HTMLModel",
          "model_module_version": "1.5.0",
          "state": {
            "_dom_classes": [],
            "_model_module": "@jupyter-widgets/controls",
            "_model_module_version": "1.5.0",
            "_model_name": "HTMLModel",
            "_view_count": null,
            "_view_module": "@jupyter-widgets/controls",
            "_view_module_version": "1.5.0",
            "_view_name": "HTMLView",
            "description": "",
            "description_tooltip": null,
            "layout": "IPY_MODEL_9f011977a8714066908b066c59fa258b",
            "placeholder": "​",
            "style": "IPY_MODEL_6417665b743b48e996852dfa349b2b07",
            "value": "Downloading: 100%"
          }
        },
        "ce94ff95d05c4b2781e5613fa19023d0": {
          "model_module": "@jupyter-widgets/controls",
          "model_name": "FloatProgressModel",
          "model_module_version": "1.5.0",
          "state": {
            "_dom_classes": [],
            "_model_module": "@jupyter-widgets/controls",
            "_model_module_version": "1.5.0",
            "_model_name": "FloatProgressModel",
            "_view_count": null,
            "_view_module": "@jupyter-widgets/controls",
            "_view_module_version": "1.5.0",
            "_view_name": "ProgressView",
            "bar_style": "success",
            "description": "",
            "description_tooltip": null,
            "layout": "IPY_MODEL_9cbf6784a4794da0849fb728143b696e",
            "max": 231508,
            "min": 0,
            "orientation": "horizontal",
            "style": "IPY_MODEL_6673075b632b4f8b8403f78d2545c491",
            "value": 231508
          }
        },
        "9118d8e4c1e546bca980d6df6bd8e14d": {
          "model_module": "@jupyter-widgets/controls",
          "model_name": "HTMLModel",
          "model_module_version": "1.5.0",
          "state": {
            "_dom_classes": [],
            "_model_module": "@jupyter-widgets/controls",
            "_model_module_version": "1.5.0",
            "_model_name": "HTMLModel",
            "_view_count": null,
            "_view_module": "@jupyter-widgets/controls",
            "_view_module_version": "1.5.0",
            "_view_name": "HTMLView",
            "description": "",
            "description_tooltip": null,
            "layout": "IPY_MODEL_295170e792ba4b7e92481cda673714cb",
            "placeholder": "​",
            "style": "IPY_MODEL_7887c338da784fdda99c00a2de9cd57d",
            "value": " 226k/226k [00:00&lt;00:00, 314kB/s]"
          }
        },
        "11fc7d45691643c98b7ab2ccce533aea": {
          "model_module": "@jupyter-widgets/base",
          "model_name": "LayoutModel",
          "model_module_version": "1.2.0",
          "state": {
            "_model_module": "@jupyter-widgets/base",
            "_model_module_version": "1.2.0",
            "_model_name": "LayoutModel",
            "_view_count": null,
            "_view_module": "@jupyter-widgets/base",
            "_view_module_version": "1.2.0",
            "_view_name": "LayoutView",
            "align_content": null,
            "align_items": null,
            "align_self": null,
            "border": null,
            "bottom": null,
            "display": null,
            "flex": null,
            "flex_flow": null,
            "grid_area": null,
            "grid_auto_columns": null,
            "grid_auto_flow": null,
            "grid_auto_rows": null,
            "grid_column": null,
            "grid_gap": null,
            "grid_row": null,
            "grid_template_areas": null,
            "grid_template_columns": null,
            "grid_template_rows": null,
            "height": null,
            "justify_content": null,
            "justify_items": null,
            "left": null,
            "margin": null,
            "max_height": null,
            "max_width": null,
            "min_height": null,
            "min_width": null,
            "object_fit": null,
            "object_position": null,
            "order": null,
            "overflow": null,
            "overflow_x": null,
            "overflow_y": null,
            "padding": null,
            "right": null,
            "top": null,
            "visibility": null,
            "width": null
          }
        },
        "9f011977a8714066908b066c59fa258b": {
          "model_module": "@jupyter-widgets/base",
          "model_name": "LayoutModel",
          "model_module_version": "1.2.0",
          "state": {
            "_model_module": "@jupyter-widgets/base",
            "_model_module_version": "1.2.0",
            "_model_name": "LayoutModel",
            "_view_count": null,
            "_view_module": "@jupyter-widgets/base",
            "_view_module_version": "1.2.0",
            "_view_name": "LayoutView",
            "align_content": null,
            "align_items": null,
            "align_self": null,
            "border": null,
            "bottom": null,
            "display": null,
            "flex": null,
            "flex_flow": null,
            "grid_area": null,
            "grid_auto_columns": null,
            "grid_auto_flow": null,
            "grid_auto_rows": null,
            "grid_column": null,
            "grid_gap": null,
            "grid_row": null,
            "grid_template_areas": null,
            "grid_template_columns": null,
            "grid_template_rows": null,
            "height": null,
            "justify_content": null,
            "justify_items": null,
            "left": null,
            "margin": null,
            "max_height": null,
            "max_width": null,
            "min_height": null,
            "min_width": null,
            "object_fit": null,
            "object_position": null,
            "order": null,
            "overflow": null,
            "overflow_x": null,
            "overflow_y": null,
            "padding": null,
            "right": null,
            "top": null,
            "visibility": null,
            "width": null
          }
        },
        "6417665b743b48e996852dfa349b2b07": {
          "model_module": "@jupyter-widgets/controls",
          "model_name": "DescriptionStyleModel",
          "model_module_version": "1.5.0",
          "state": {
            "_model_module": "@jupyter-widgets/controls",
            "_model_module_version": "1.5.0",
            "_model_name": "DescriptionStyleModel",
            "_view_count": null,
            "_view_module": "@jupyter-widgets/base",
            "_view_module_version": "1.2.0",
            "_view_name": "StyleView",
            "description_width": ""
          }
        },
        "9cbf6784a4794da0849fb728143b696e": {
          "model_module": "@jupyter-widgets/base",
          "model_name": "LayoutModel",
          "model_module_version": "1.2.0",
          "state": {
            "_model_module": "@jupyter-widgets/base",
            "_model_module_version": "1.2.0",
            "_model_name": "LayoutModel",
            "_view_count": null,
            "_view_module": "@jupyter-widgets/base",
            "_view_module_version": "1.2.0",
            "_view_name": "LayoutView",
            "align_content": null,
            "align_items": null,
            "align_self": null,
            "border": null,
            "bottom": null,
            "display": null,
            "flex": null,
            "flex_flow": null,
            "grid_area": null,
            "grid_auto_columns": null,
            "grid_auto_flow": null,
            "grid_auto_rows": null,
            "grid_column": null,
            "grid_gap": null,
            "grid_row": null,
            "grid_template_areas": null,
            "grid_template_columns": null,
            "grid_template_rows": null,
            "height": null,
            "justify_content": null,
            "justify_items": null,
            "left": null,
            "margin": null,
            "max_height": null,
            "max_width": null,
            "min_height": null,
            "min_width": null,
            "object_fit": null,
            "object_position": null,
            "order": null,
            "overflow": null,
            "overflow_x": null,
            "overflow_y": null,
            "padding": null,
            "right": null,
            "top": null,
            "visibility": null,
            "width": null
          }
        },
        "6673075b632b4f8b8403f78d2545c491": {
          "model_module": "@jupyter-widgets/controls",
          "model_name": "ProgressStyleModel",
          "model_module_version": "1.5.0",
          "state": {
            "_model_module": "@jupyter-widgets/controls",
            "_model_module_version": "1.5.0",
            "_model_name": "ProgressStyleModel",
            "_view_count": null,
            "_view_module": "@jupyter-widgets/base",
            "_view_module_version": "1.2.0",
            "_view_name": "StyleView",
            "bar_color": null,
            "description_width": ""
          }
        },
        "295170e792ba4b7e92481cda673714cb": {
          "model_module": "@jupyter-widgets/base",
          "model_name": "LayoutModel",
          "model_module_version": "1.2.0",
          "state": {
            "_model_module": "@jupyter-widgets/base",
            "_model_module_version": "1.2.0",
            "_model_name": "LayoutModel",
            "_view_count": null,
            "_view_module": "@jupyter-widgets/base",
            "_view_module_version": "1.2.0",
            "_view_name": "LayoutView",
            "align_content": null,
            "align_items": null,
            "align_self": null,
            "border": null,
            "bottom": null,
            "display": null,
            "flex": null,
            "flex_flow": null,
            "grid_area": null,
            "grid_auto_columns": null,
            "grid_auto_flow": null,
            "grid_auto_rows": null,
            "grid_column": null,
            "grid_gap": null,
            "grid_row": null,
            "grid_template_areas": null,
            "grid_template_columns": null,
            "grid_template_rows": null,
            "height": null,
            "justify_content": null,
            "justify_items": null,
            "left": null,
            "margin": null,
            "max_height": null,
            "max_width": null,
            "min_height": null,
            "min_width": null,
            "object_fit": null,
            "object_position": null,
            "order": null,
            "overflow": null,
            "overflow_x": null,
            "overflow_y": null,
            "padding": null,
            "right": null,
            "top": null,
            "visibility": null,
            "width": null
          }
        },
        "7887c338da784fdda99c00a2de9cd57d": {
          "model_module": "@jupyter-widgets/controls",
          "model_name": "DescriptionStyleModel",
          "model_module_version": "1.5.0",
          "state": {
            "_model_module": "@jupyter-widgets/controls",
            "_model_module_version": "1.5.0",
            "_model_name": "DescriptionStyleModel",
            "_view_count": null,
            "_view_module": "@jupyter-widgets/base",
            "_view_module_version": "1.2.0",
            "_view_name": "StyleView",
            "description_width": ""
          }
        },
        "3b22d18aaa96493b9f530ea081d4a8c1": {
          "model_module": "@jupyter-widgets/controls",
          "model_name": "HBoxModel",
          "model_module_version": "1.5.0",
          "state": {
            "_dom_classes": [],
            "_model_module": "@jupyter-widgets/controls",
            "_model_module_version": "1.5.0",
            "_model_name": "HBoxModel",
            "_view_count": null,
            "_view_module": "@jupyter-widgets/controls",
            "_view_module_version": "1.5.0",
            "_view_name": "HBoxView",
            "box_style": "",
            "children": [
              "IPY_MODEL_2583f2db17ec475ba931952a5027bb6f",
              "IPY_MODEL_156c2d424ba94450b365400e63487432",
              "IPY_MODEL_947b7f2e130e4ee4ad7c1e4a7e73ca6e"
            ],
            "layout": "IPY_MODEL_1ec150b2d0bb49a68e6347228d6738f9"
          }
        },
        "2583f2db17ec475ba931952a5027bb6f": {
          "model_module": "@jupyter-widgets/controls",
          "model_name": "HTMLModel",
          "model_module_version": "1.5.0",
          "state": {
            "_dom_classes": [],
            "_model_module": "@jupyter-widgets/controls",
            "_model_module_version": "1.5.0",
            "_model_name": "HTMLModel",
            "_view_count": null,
            "_view_module": "@jupyter-widgets/controls",
            "_view_module_version": "1.5.0",
            "_view_name": "HTMLView",
            "description": "",
            "description_tooltip": null,
            "layout": "IPY_MODEL_096e53d2cf63484fac842d7e825d18c0",
            "placeholder": "​",
            "style": "IPY_MODEL_c1d26a2c64344fac998413b4d762b5bf",
            "value": "Downloading: 100%"
          }
        },
        "156c2d424ba94450b365400e63487432": {
          "model_module": "@jupyter-widgets/controls",
          "model_name": "FloatProgressModel",
          "model_module_version": "1.5.0",
          "state": {
            "_dom_classes": [],
            "_model_module": "@jupyter-widgets/controls",
            "_model_module_version": "1.5.0",
            "_model_name": "FloatProgressModel",
            "_view_count": null,
            "_view_module": "@jupyter-widgets/controls",
            "_view_module_version": "1.5.0",
            "_view_name": "ProgressView",
            "bar_style": "success",
            "description": "",
            "description_tooltip": null,
            "layout": "IPY_MODEL_4eb00cb8251b42249313f336cd5df5a3",
            "max": 28,
            "min": 0,
            "orientation": "horizontal",
            "style": "IPY_MODEL_f87bedcb7cb84311b036e560c81dbc57",
            "value": 28
          }
        },
        "947b7f2e130e4ee4ad7c1e4a7e73ca6e": {
          "model_module": "@jupyter-widgets/controls",
          "model_name": "HTMLModel",
          "model_module_version": "1.5.0",
          "state": {
            "_dom_classes": [],
            "_model_module": "@jupyter-widgets/controls",
            "_model_module_version": "1.5.0",
            "_model_name": "HTMLModel",
            "_view_count": null,
            "_view_module": "@jupyter-widgets/controls",
            "_view_module_version": "1.5.0",
            "_view_name": "HTMLView",
            "description": "",
            "description_tooltip": null,
            "layout": "IPY_MODEL_4c6c6a084ab44b4fa294bc8ec0db164f",
            "placeholder": "​",
            "style": "IPY_MODEL_2d7f5802d7bd45d9a175a6f8400fda09",
            "value": " 28.0/28.0 [00:00&lt;00:00, 671B/s]"
          }
        },
        "1ec150b2d0bb49a68e6347228d6738f9": {
          "model_module": "@jupyter-widgets/base",
          "model_name": "LayoutModel",
          "model_module_version": "1.2.0",
          "state": {
            "_model_module": "@jupyter-widgets/base",
            "_model_module_version": "1.2.0",
            "_model_name": "LayoutModel",
            "_view_count": null,
            "_view_module": "@jupyter-widgets/base",
            "_view_module_version": "1.2.0",
            "_view_name": "LayoutView",
            "align_content": null,
            "align_items": null,
            "align_self": null,
            "border": null,
            "bottom": null,
            "display": null,
            "flex": null,
            "flex_flow": null,
            "grid_area": null,
            "grid_auto_columns": null,
            "grid_auto_flow": null,
            "grid_auto_rows": null,
            "grid_column": null,
            "grid_gap": null,
            "grid_row": null,
            "grid_template_areas": null,
            "grid_template_columns": null,
            "grid_template_rows": null,
            "height": null,
            "justify_content": null,
            "justify_items": null,
            "left": null,
            "margin": null,
            "max_height": null,
            "max_width": null,
            "min_height": null,
            "min_width": null,
            "object_fit": null,
            "object_position": null,
            "order": null,
            "overflow": null,
            "overflow_x": null,
            "overflow_y": null,
            "padding": null,
            "right": null,
            "top": null,
            "visibility": null,
            "width": null
          }
        },
        "096e53d2cf63484fac842d7e825d18c0": {
          "model_module": "@jupyter-widgets/base",
          "model_name": "LayoutModel",
          "model_module_version": "1.2.0",
          "state": {
            "_model_module": "@jupyter-widgets/base",
            "_model_module_version": "1.2.0",
            "_model_name": "LayoutModel",
            "_view_count": null,
            "_view_module": "@jupyter-widgets/base",
            "_view_module_version": "1.2.0",
            "_view_name": "LayoutView",
            "align_content": null,
            "align_items": null,
            "align_self": null,
            "border": null,
            "bottom": null,
            "display": null,
            "flex": null,
            "flex_flow": null,
            "grid_area": null,
            "grid_auto_columns": null,
            "grid_auto_flow": null,
            "grid_auto_rows": null,
            "grid_column": null,
            "grid_gap": null,
            "grid_row": null,
            "grid_template_areas": null,
            "grid_template_columns": null,
            "grid_template_rows": null,
            "height": null,
            "justify_content": null,
            "justify_items": null,
            "left": null,
            "margin": null,
            "max_height": null,
            "max_width": null,
            "min_height": null,
            "min_width": null,
            "object_fit": null,
            "object_position": null,
            "order": null,
            "overflow": null,
            "overflow_x": null,
            "overflow_y": null,
            "padding": null,
            "right": null,
            "top": null,
            "visibility": null,
            "width": null
          }
        },
        "c1d26a2c64344fac998413b4d762b5bf": {
          "model_module": "@jupyter-widgets/controls",
          "model_name": "DescriptionStyleModel",
          "model_module_version": "1.5.0",
          "state": {
            "_model_module": "@jupyter-widgets/controls",
            "_model_module_version": "1.5.0",
            "_model_name": "DescriptionStyleModel",
            "_view_count": null,
            "_view_module": "@jupyter-widgets/base",
            "_view_module_version": "1.2.0",
            "_view_name": "StyleView",
            "description_width": ""
          }
        },
        "4eb00cb8251b42249313f336cd5df5a3": {
          "model_module": "@jupyter-widgets/base",
          "model_name": "LayoutModel",
          "model_module_version": "1.2.0",
          "state": {
            "_model_module": "@jupyter-widgets/base",
            "_model_module_version": "1.2.0",
            "_model_name": "LayoutModel",
            "_view_count": null,
            "_view_module": "@jupyter-widgets/base",
            "_view_module_version": "1.2.0",
            "_view_name": "LayoutView",
            "align_content": null,
            "align_items": null,
            "align_self": null,
            "border": null,
            "bottom": null,
            "display": null,
            "flex": null,
            "flex_flow": null,
            "grid_area": null,
            "grid_auto_columns": null,
            "grid_auto_flow": null,
            "grid_auto_rows": null,
            "grid_column": null,
            "grid_gap": null,
            "grid_row": null,
            "grid_template_areas": null,
            "grid_template_columns": null,
            "grid_template_rows": null,
            "height": null,
            "justify_content": null,
            "justify_items": null,
            "left": null,
            "margin": null,
            "max_height": null,
            "max_width": null,
            "min_height": null,
            "min_width": null,
            "object_fit": null,
            "object_position": null,
            "order": null,
            "overflow": null,
            "overflow_x": null,
            "overflow_y": null,
            "padding": null,
            "right": null,
            "top": null,
            "visibility": null,
            "width": null
          }
        },
        "f87bedcb7cb84311b036e560c81dbc57": {
          "model_module": "@jupyter-widgets/controls",
          "model_name": "ProgressStyleModel",
          "model_module_version": "1.5.0",
          "state": {
            "_model_module": "@jupyter-widgets/controls",
            "_model_module_version": "1.5.0",
            "_model_name": "ProgressStyleModel",
            "_view_count": null,
            "_view_module": "@jupyter-widgets/base",
            "_view_module_version": "1.2.0",
            "_view_name": "StyleView",
            "bar_color": null,
            "description_width": ""
          }
        },
        "4c6c6a084ab44b4fa294bc8ec0db164f": {
          "model_module": "@jupyter-widgets/base",
          "model_name": "LayoutModel",
          "model_module_version": "1.2.0",
          "state": {
            "_model_module": "@jupyter-widgets/base",
            "_model_module_version": "1.2.0",
            "_model_name": "LayoutModel",
            "_view_count": null,
            "_view_module": "@jupyter-widgets/base",
            "_view_module_version": "1.2.0",
            "_view_name": "LayoutView",
            "align_content": null,
            "align_items": null,
            "align_self": null,
            "border": null,
            "bottom": null,
            "display": null,
            "flex": null,
            "flex_flow": null,
            "grid_area": null,
            "grid_auto_columns": null,
            "grid_auto_flow": null,
            "grid_auto_rows": null,
            "grid_column": null,
            "grid_gap": null,
            "grid_row": null,
            "grid_template_areas": null,
            "grid_template_columns": null,
            "grid_template_rows": null,
            "height": null,
            "justify_content": null,
            "justify_items": null,
            "left": null,
            "margin": null,
            "max_height": null,
            "max_width": null,
            "min_height": null,
            "min_width": null,
            "object_fit": null,
            "object_position": null,
            "order": null,
            "overflow": null,
            "overflow_x": null,
            "overflow_y": null,
            "padding": null,
            "right": null,
            "top": null,
            "visibility": null,
            "width": null
          }
        },
        "2d7f5802d7bd45d9a175a6f8400fda09": {
          "model_module": "@jupyter-widgets/controls",
          "model_name": "DescriptionStyleModel",
          "model_module_version": "1.5.0",
          "state": {
            "_model_module": "@jupyter-widgets/controls",
            "_model_module_version": "1.5.0",
            "_model_name": "DescriptionStyleModel",
            "_view_count": null,
            "_view_module": "@jupyter-widgets/base",
            "_view_module_version": "1.2.0",
            "_view_name": "StyleView",
            "description_width": ""
          }
        },
        "ad67fa1de6cd4303adcaf68f87fc45f0": {
          "model_module": "@jupyter-widgets/controls",
          "model_name": "HBoxModel",
          "model_module_version": "1.5.0",
          "state": {
            "_dom_classes": [],
            "_model_module": "@jupyter-widgets/controls",
            "_model_module_version": "1.5.0",
            "_model_name": "HBoxModel",
            "_view_count": null,
            "_view_module": "@jupyter-widgets/controls",
            "_view_module_version": "1.5.0",
            "_view_name": "HBoxView",
            "box_style": "",
            "children": [
              "IPY_MODEL_db2bc6292d054a9e9ed8b3f2efc3882e",
              "IPY_MODEL_5424b8eb7bdf4ea5b42c0c43991f5968",
              "IPY_MODEL_102c02032d2a429bb2eaf4b07583a5c7"
            ],
            "layout": "IPY_MODEL_a0058ded7e1a4e01b34d3689b650ee48"
          }
        },
        "db2bc6292d054a9e9ed8b3f2efc3882e": {
          "model_module": "@jupyter-widgets/controls",
          "model_name": "HTMLModel",
          "model_module_version": "1.5.0",
          "state": {
            "_dom_classes": [],
            "_model_module": "@jupyter-widgets/controls",
            "_model_module_version": "1.5.0",
            "_model_name": "HTMLModel",
            "_view_count": null,
            "_view_module": "@jupyter-widgets/controls",
            "_view_module_version": "1.5.0",
            "_view_name": "HTMLView",
            "description": "",
            "description_tooltip": null,
            "layout": "IPY_MODEL_57695d495974476183f6c01bf0c44360",
            "placeholder": "​",
            "style": "IPY_MODEL_fca943912f334c71bf7115821ac25a20",
            "value": "Downloading: 100%"
          }
        },
        "5424b8eb7bdf4ea5b42c0c43991f5968": {
          "model_module": "@jupyter-widgets/controls",
          "model_name": "FloatProgressModel",
          "model_module_version": "1.5.0",
          "state": {
            "_dom_classes": [],
            "_model_module": "@jupyter-widgets/controls",
            "_model_module_version": "1.5.0",
            "_model_name": "FloatProgressModel",
            "_view_count": null,
            "_view_module": "@jupyter-widgets/controls",
            "_view_module_version": "1.5.0",
            "_view_name": "ProgressView",
            "bar_style": "success",
            "description": "",
            "description_tooltip": null,
            "layout": "IPY_MODEL_f53c69e1e844477684092f638f5cc08b",
            "max": 570,
            "min": 0,
            "orientation": "horizontal",
            "style": "IPY_MODEL_074d7ac6f63e4724999a25117a1693e3",
            "value": 570
          }
        },
        "102c02032d2a429bb2eaf4b07583a5c7": {
          "model_module": "@jupyter-widgets/controls",
          "model_name": "HTMLModel",
          "model_module_version": "1.5.0",
          "state": {
            "_dom_classes": [],
            "_model_module": "@jupyter-widgets/controls",
            "_model_module_version": "1.5.0",
            "_model_name": "HTMLModel",
            "_view_count": null,
            "_view_module": "@jupyter-widgets/controls",
            "_view_module_version": "1.5.0",
            "_view_name": "HTMLView",
            "description": "",
            "description_tooltip": null,
            "layout": "IPY_MODEL_156bc45f60334948821463b41e1a1037",
            "placeholder": "​",
            "style": "IPY_MODEL_b22e0f2cc3724e7b93421d0bb6072460",
            "value": " 570/570 [00:00&lt;00:00, 7.43kB/s]"
          }
        },
        "a0058ded7e1a4e01b34d3689b650ee48": {
          "model_module": "@jupyter-widgets/base",
          "model_name": "LayoutModel",
          "model_module_version": "1.2.0",
          "state": {
            "_model_module": "@jupyter-widgets/base",
            "_model_module_version": "1.2.0",
            "_model_name": "LayoutModel",
            "_view_count": null,
            "_view_module": "@jupyter-widgets/base",
            "_view_module_version": "1.2.0",
            "_view_name": "LayoutView",
            "align_content": null,
            "align_items": null,
            "align_self": null,
            "border": null,
            "bottom": null,
            "display": null,
            "flex": null,
            "flex_flow": null,
            "grid_area": null,
            "grid_auto_columns": null,
            "grid_auto_flow": null,
            "grid_auto_rows": null,
            "grid_column": null,
            "grid_gap": null,
            "grid_row": null,
            "grid_template_areas": null,
            "grid_template_columns": null,
            "grid_template_rows": null,
            "height": null,
            "justify_content": null,
            "justify_items": null,
            "left": null,
            "margin": null,
            "max_height": null,
            "max_width": null,
            "min_height": null,
            "min_width": null,
            "object_fit": null,
            "object_position": null,
            "order": null,
            "overflow": null,
            "overflow_x": null,
            "overflow_y": null,
            "padding": null,
            "right": null,
            "top": null,
            "visibility": null,
            "width": null
          }
        },
        "57695d495974476183f6c01bf0c44360": {
          "model_module": "@jupyter-widgets/base",
          "model_name": "LayoutModel",
          "model_module_version": "1.2.0",
          "state": {
            "_model_module": "@jupyter-widgets/base",
            "_model_module_version": "1.2.0",
            "_model_name": "LayoutModel",
            "_view_count": null,
            "_view_module": "@jupyter-widgets/base",
            "_view_module_version": "1.2.0",
            "_view_name": "LayoutView",
            "align_content": null,
            "align_items": null,
            "align_self": null,
            "border": null,
            "bottom": null,
            "display": null,
            "flex": null,
            "flex_flow": null,
            "grid_area": null,
            "grid_auto_columns": null,
            "grid_auto_flow": null,
            "grid_auto_rows": null,
            "grid_column": null,
            "grid_gap": null,
            "grid_row": null,
            "grid_template_areas": null,
            "grid_template_columns": null,
            "grid_template_rows": null,
            "height": null,
            "justify_content": null,
            "justify_items": null,
            "left": null,
            "margin": null,
            "max_height": null,
            "max_width": null,
            "min_height": null,
            "min_width": null,
            "object_fit": null,
            "object_position": null,
            "order": null,
            "overflow": null,
            "overflow_x": null,
            "overflow_y": null,
            "padding": null,
            "right": null,
            "top": null,
            "visibility": null,
            "width": null
          }
        },
        "fca943912f334c71bf7115821ac25a20": {
          "model_module": "@jupyter-widgets/controls",
          "model_name": "DescriptionStyleModel",
          "model_module_version": "1.5.0",
          "state": {
            "_model_module": "@jupyter-widgets/controls",
            "_model_module_version": "1.5.0",
            "_model_name": "DescriptionStyleModel",
            "_view_count": null,
            "_view_module": "@jupyter-widgets/base",
            "_view_module_version": "1.2.0",
            "_view_name": "StyleView",
            "description_width": ""
          }
        },
        "f53c69e1e844477684092f638f5cc08b": {
          "model_module": "@jupyter-widgets/base",
          "model_name": "LayoutModel",
          "model_module_version": "1.2.0",
          "state": {
            "_model_module": "@jupyter-widgets/base",
            "_model_module_version": "1.2.0",
            "_model_name": "LayoutModel",
            "_view_count": null,
            "_view_module": "@jupyter-widgets/base",
            "_view_module_version": "1.2.0",
            "_view_name": "LayoutView",
            "align_content": null,
            "align_items": null,
            "align_self": null,
            "border": null,
            "bottom": null,
            "display": null,
            "flex": null,
            "flex_flow": null,
            "grid_area": null,
            "grid_auto_columns": null,
            "grid_auto_flow": null,
            "grid_auto_rows": null,
            "grid_column": null,
            "grid_gap": null,
            "grid_row": null,
            "grid_template_areas": null,
            "grid_template_columns": null,
            "grid_template_rows": null,
            "height": null,
            "justify_content": null,
            "justify_items": null,
            "left": null,
            "margin": null,
            "max_height": null,
            "max_width": null,
            "min_height": null,
            "min_width": null,
            "object_fit": null,
            "object_position": null,
            "order": null,
            "overflow": null,
            "overflow_x": null,
            "overflow_y": null,
            "padding": null,
            "right": null,
            "top": null,
            "visibility": null,
            "width": null
          }
        },
        "074d7ac6f63e4724999a25117a1693e3": {
          "model_module": "@jupyter-widgets/controls",
          "model_name": "ProgressStyleModel",
          "model_module_version": "1.5.0",
          "state": {
            "_model_module": "@jupyter-widgets/controls",
            "_model_module_version": "1.5.0",
            "_model_name": "ProgressStyleModel",
            "_view_count": null,
            "_view_module": "@jupyter-widgets/base",
            "_view_module_version": "1.2.0",
            "_view_name": "StyleView",
            "bar_color": null,
            "description_width": ""
          }
        },
        "156bc45f60334948821463b41e1a1037": {
          "model_module": "@jupyter-widgets/base",
          "model_name": "LayoutModel",
          "model_module_version": "1.2.0",
          "state": {
            "_model_module": "@jupyter-widgets/base",
            "_model_module_version": "1.2.0",
            "_model_name": "LayoutModel",
            "_view_count": null,
            "_view_module": "@jupyter-widgets/base",
            "_view_module_version": "1.2.0",
            "_view_name": "LayoutView",
            "align_content": null,
            "align_items": null,
            "align_self": null,
            "border": null,
            "bottom": null,
            "display": null,
            "flex": null,
            "flex_flow": null,
            "grid_area": null,
            "grid_auto_columns": null,
            "grid_auto_flow": null,
            "grid_auto_rows": null,
            "grid_column": null,
            "grid_gap": null,
            "grid_row": null,
            "grid_template_areas": null,
            "grid_template_columns": null,
            "grid_template_rows": null,
            "height": null,
            "justify_content": null,
            "justify_items": null,
            "left": null,
            "margin": null,
            "max_height": null,
            "max_width": null,
            "min_height": null,
            "min_width": null,
            "object_fit": null,
            "object_position": null,
            "order": null,
            "overflow": null,
            "overflow_x": null,
            "overflow_y": null,
            "padding": null,
            "right": null,
            "top": null,
            "visibility": null,
            "width": null
          }
        },
        "b22e0f2cc3724e7b93421d0bb6072460": {
          "model_module": "@jupyter-widgets/controls",
          "model_name": "DescriptionStyleModel",
          "model_module_version": "1.5.0",
          "state": {
            "_model_module": "@jupyter-widgets/controls",
            "_model_module_version": "1.5.0",
            "_model_name": "DescriptionStyleModel",
            "_view_count": null,
            "_view_module": "@jupyter-widgets/base",
            "_view_module_version": "1.2.0",
            "_view_name": "StyleView",
            "description_width": ""
          }
        },
        "9a5282cead434fe7adbaf1d9d9fbb006": {
          "model_module": "@jupyter-widgets/controls",
          "model_name": "HBoxModel",
          "model_module_version": "1.5.0",
          "state": {
            "_dom_classes": [],
            "_model_module": "@jupyter-widgets/controls",
            "_model_module_version": "1.5.0",
            "_model_name": "HBoxModel",
            "_view_count": null,
            "_view_module": "@jupyter-widgets/controls",
            "_view_module_version": "1.5.0",
            "_view_name": "HBoxView",
            "box_style": "",
            "children": [
              "IPY_MODEL_de0bf34bf88f4c4f814a8259c74056da",
              "IPY_MODEL_2a56603764a14129a0ee103d16f6a782",
              "IPY_MODEL_e08cedb388564ee189d54528bfac2c18"
            ],
            "layout": "IPY_MODEL_34a231a52e814febaa1c44080c374147"
          }
        },
        "de0bf34bf88f4c4f814a8259c74056da": {
          "model_module": "@jupyter-widgets/controls",
          "model_name": "HTMLModel",
          "model_module_version": "1.5.0",
          "state": {
            "_dom_classes": [],
            "_model_module": "@jupyter-widgets/controls",
            "_model_module_version": "1.5.0",
            "_model_name": "HTMLModel",
            "_view_count": null,
            "_view_module": "@jupyter-widgets/controls",
            "_view_module_version": "1.5.0",
            "_view_name": "HTMLView",
            "description": "",
            "description_tooltip": null,
            "layout": "IPY_MODEL_26e4cc5d0dff4d149637abbe5dc9a5f6",
            "placeholder": "​",
            "style": "IPY_MODEL_3bf2ec1d278644ae9c53e49a645e4eff",
            "value": "Downloading: 100%"
          }
        },
        "2a56603764a14129a0ee103d16f6a782": {
          "model_module": "@jupyter-widgets/controls",
          "model_name": "FloatProgressModel",
          "model_module_version": "1.5.0",
          "state": {
            "_dom_classes": [],
            "_model_module": "@jupyter-widgets/controls",
            "_model_module_version": "1.5.0",
            "_model_name": "FloatProgressModel",
            "_view_count": null,
            "_view_module": "@jupyter-widgets/controls",
            "_view_module_version": "1.5.0",
            "_view_name": "ProgressView",
            "bar_style": "success",
            "description": "",
            "description_tooltip": null,
            "layout": "IPY_MODEL_b13faeed8fba4675b12e21b5d2bb1d54",
            "max": 440473133,
            "min": 0,
            "orientation": "horizontal",
            "style": "IPY_MODEL_4c3196a71e9b46abb932133b1add228f",
            "value": 440473133
          }
        },
        "e08cedb388564ee189d54528bfac2c18": {
          "model_module": "@jupyter-widgets/controls",
          "model_name": "HTMLModel",
          "model_module_version": "1.5.0",
          "state": {
            "_dom_classes": [],
            "_model_module": "@jupyter-widgets/controls",
            "_model_module_version": "1.5.0",
            "_model_name": "HTMLModel",
            "_view_count": null,
            "_view_module": "@jupyter-widgets/controls",
            "_view_module_version": "1.5.0",
            "_view_name": "HTMLView",
            "description": "",
            "description_tooltip": null,
            "layout": "IPY_MODEL_daaf3348643a40e6b3a318252c979efa",
            "placeholder": "​",
            "style": "IPY_MODEL_77895337b9a14dfa8a3aa469b88bd01d",
            "value": " 420M/420M [00:16&lt;00:00, 30.3MB/s]"
          }
        },
        "34a231a52e814febaa1c44080c374147": {
          "model_module": "@jupyter-widgets/base",
          "model_name": "LayoutModel",
          "model_module_version": "1.2.0",
          "state": {
            "_model_module": "@jupyter-widgets/base",
            "_model_module_version": "1.2.0",
            "_model_name": "LayoutModel",
            "_view_count": null,
            "_view_module": "@jupyter-widgets/base",
            "_view_module_version": "1.2.0",
            "_view_name": "LayoutView",
            "align_content": null,
            "align_items": null,
            "align_self": null,
            "border": null,
            "bottom": null,
            "display": null,
            "flex": null,
            "flex_flow": null,
            "grid_area": null,
            "grid_auto_columns": null,
            "grid_auto_flow": null,
            "grid_auto_rows": null,
            "grid_column": null,
            "grid_gap": null,
            "grid_row": null,
            "grid_template_areas": null,
            "grid_template_columns": null,
            "grid_template_rows": null,
            "height": null,
            "justify_content": null,
            "justify_items": null,
            "left": null,
            "margin": null,
            "max_height": null,
            "max_width": null,
            "min_height": null,
            "min_width": null,
            "object_fit": null,
            "object_position": null,
            "order": null,
            "overflow": null,
            "overflow_x": null,
            "overflow_y": null,
            "padding": null,
            "right": null,
            "top": null,
            "visibility": null,
            "width": null
          }
        },
        "26e4cc5d0dff4d149637abbe5dc9a5f6": {
          "model_module": "@jupyter-widgets/base",
          "model_name": "LayoutModel",
          "model_module_version": "1.2.0",
          "state": {
            "_model_module": "@jupyter-widgets/base",
            "_model_module_version": "1.2.0",
            "_model_name": "LayoutModel",
            "_view_count": null,
            "_view_module": "@jupyter-widgets/base",
            "_view_module_version": "1.2.0",
            "_view_name": "LayoutView",
            "align_content": null,
            "align_items": null,
            "align_self": null,
            "border": null,
            "bottom": null,
            "display": null,
            "flex": null,
            "flex_flow": null,
            "grid_area": null,
            "grid_auto_columns": null,
            "grid_auto_flow": null,
            "grid_auto_rows": null,
            "grid_column": null,
            "grid_gap": null,
            "grid_row": null,
            "grid_template_areas": null,
            "grid_template_columns": null,
            "grid_template_rows": null,
            "height": null,
            "justify_content": null,
            "justify_items": null,
            "left": null,
            "margin": null,
            "max_height": null,
            "max_width": null,
            "min_height": null,
            "min_width": null,
            "object_fit": null,
            "object_position": null,
            "order": null,
            "overflow": null,
            "overflow_x": null,
            "overflow_y": null,
            "padding": null,
            "right": null,
            "top": null,
            "visibility": null,
            "width": null
          }
        },
        "3bf2ec1d278644ae9c53e49a645e4eff": {
          "model_module": "@jupyter-widgets/controls",
          "model_name": "DescriptionStyleModel",
          "model_module_version": "1.5.0",
          "state": {
            "_model_module": "@jupyter-widgets/controls",
            "_model_module_version": "1.5.0",
            "_model_name": "DescriptionStyleModel",
            "_view_count": null,
            "_view_module": "@jupyter-widgets/base",
            "_view_module_version": "1.2.0",
            "_view_name": "StyleView",
            "description_width": ""
          }
        },
        "b13faeed8fba4675b12e21b5d2bb1d54": {
          "model_module": "@jupyter-widgets/base",
          "model_name": "LayoutModel",
          "model_module_version": "1.2.0",
          "state": {
            "_model_module": "@jupyter-widgets/base",
            "_model_module_version": "1.2.0",
            "_model_name": "LayoutModel",
            "_view_count": null,
            "_view_module": "@jupyter-widgets/base",
            "_view_module_version": "1.2.0",
            "_view_name": "LayoutView",
            "align_content": null,
            "align_items": null,
            "align_self": null,
            "border": null,
            "bottom": null,
            "display": null,
            "flex": null,
            "flex_flow": null,
            "grid_area": null,
            "grid_auto_columns": null,
            "grid_auto_flow": null,
            "grid_auto_rows": null,
            "grid_column": null,
            "grid_gap": null,
            "grid_row": null,
            "grid_template_areas": null,
            "grid_template_columns": null,
            "grid_template_rows": null,
            "height": null,
            "justify_content": null,
            "justify_items": null,
            "left": null,
            "margin": null,
            "max_height": null,
            "max_width": null,
            "min_height": null,
            "min_width": null,
            "object_fit": null,
            "object_position": null,
            "order": null,
            "overflow": null,
            "overflow_x": null,
            "overflow_y": null,
            "padding": null,
            "right": null,
            "top": null,
            "visibility": null,
            "width": null
          }
        },
        "4c3196a71e9b46abb932133b1add228f": {
          "model_module": "@jupyter-widgets/controls",
          "model_name": "ProgressStyleModel",
          "model_module_version": "1.5.0",
          "state": {
            "_model_module": "@jupyter-widgets/controls",
            "_model_module_version": "1.5.0",
            "_model_name": "ProgressStyleModel",
            "_view_count": null,
            "_view_module": "@jupyter-widgets/base",
            "_view_module_version": "1.2.0",
            "_view_name": "StyleView",
            "bar_color": null,
            "description_width": ""
          }
        },
        "daaf3348643a40e6b3a318252c979efa": {
          "model_module": "@jupyter-widgets/base",
          "model_name": "LayoutModel",
          "model_module_version": "1.2.0",
          "state": {
            "_model_module": "@jupyter-widgets/base",
            "_model_module_version": "1.2.0",
            "_model_name": "LayoutModel",
            "_view_count": null,
            "_view_module": "@jupyter-widgets/base",
            "_view_module_version": "1.2.0",
            "_view_name": "LayoutView",
            "align_content": null,
            "align_items": null,
            "align_self": null,
            "border": null,
            "bottom": null,
            "display": null,
            "flex": null,
            "flex_flow": null,
            "grid_area": null,
            "grid_auto_columns": null,
            "grid_auto_flow": null,
            "grid_auto_rows": null,
            "grid_column": null,
            "grid_gap": null,
            "grid_row": null,
            "grid_template_areas": null,
            "grid_template_columns": null,
            "grid_template_rows": null,
            "height": null,
            "justify_content": null,
            "justify_items": null,
            "left": null,
            "margin": null,
            "max_height": null,
            "max_width": null,
            "min_height": null,
            "min_width": null,
            "object_fit": null,
            "object_position": null,
            "order": null,
            "overflow": null,
            "overflow_x": null,
            "overflow_y": null,
            "padding": null,
            "right": null,
            "top": null,
            "visibility": null,
            "width": null
          }
        },
        "77895337b9a14dfa8a3aa469b88bd01d": {
          "model_module": "@jupyter-widgets/controls",
          "model_name": "DescriptionStyleModel",
          "model_module_version": "1.5.0",
          "state": {
            "_model_module": "@jupyter-widgets/controls",
            "_model_module_version": "1.5.0",
            "_model_name": "DescriptionStyleModel",
            "_view_count": null,
            "_view_module": "@jupyter-widgets/base",
            "_view_module_version": "1.2.0",
            "_view_name": "StyleView",
            "description_width": ""
          }
        }
      }
    }
  },
  "cells": [
    {
      "cell_type": "markdown",
      "metadata": {
        "id": "view-in-github",
        "colab_type": "text"
      },
      "source": [
        "<a href=\"https://colab.research.google.com/github/tsutsumi-ozro/BERT_inp/blob/main/BERT4FirstTime.ipynb\" target=\"_parent\"><img src=\"https://colab.research.google.com/assets/colab-badge.svg\" alt=\"Open In Colab\"/></a>"
      ]
    },
    {
      "cell_type": "markdown",
      "source": [
        "This notebook was created based on [this](https://jalammar.github.io/a-visual-guide-to-using-bert-for-the-first-time/)"
      ],
      "metadata": {
        "id": "zCyvuavOt8O2"
      }
    },
    {
      "cell_type": "code",
      "execution_count": 1,
      "metadata": {
        "colab": {
          "base_uri": "https://localhost:8080/"
        },
        "id": "Tm_W7pdjt0nH",
        "outputId": "272fa420-6e58-4c68-e49b-f0a97cf05acd"
      },
      "outputs": [
        {
          "output_type": "stream",
          "name": "stdout",
          "text": [
            "Looking in indexes: https://pypi.org/simple, https://us-python.pkg.dev/colab-wheels/public/simple/\n",
            "Collecting transformers\n",
            "  Downloading transformers-4.20.1-py3-none-any.whl (4.4 MB)\n",
            "\u001b[K     |████████████████████████████████| 4.4 MB 4.0 MB/s \n",
            "\u001b[?25hRequirement already satisfied: importlib-metadata in /usr/local/lib/python3.7/dist-packages (from transformers) (4.11.4)\n",
            "Requirement already satisfied: regex!=2019.12.17 in /usr/local/lib/python3.7/dist-packages (from transformers) (2022.6.2)\n",
            "Requirement already satisfied: numpy>=1.17 in /usr/local/lib/python3.7/dist-packages (from transformers) (1.21.6)\n",
            "Collecting huggingface-hub<1.0,>=0.1.0\n",
            "  Downloading huggingface_hub-0.8.1-py3-none-any.whl (101 kB)\n",
            "\u001b[K     |████████████████████████████████| 101 kB 12.1 MB/s \n",
            "\u001b[?25hRequirement already satisfied: filelock in /usr/local/lib/python3.7/dist-packages (from transformers) (3.7.1)\n",
            "Collecting tokenizers!=0.11.3,<0.13,>=0.11.1\n",
            "  Downloading tokenizers-0.12.1-cp37-cp37m-manylinux_2_12_x86_64.manylinux2010_x86_64.whl (6.6 MB)\n",
            "\u001b[K     |████████████████████████████████| 6.6 MB 36.4 MB/s \n",
            "\u001b[?25hRequirement already satisfied: tqdm>=4.27 in /usr/local/lib/python3.7/dist-packages (from transformers) (4.64.0)\n",
            "Collecting pyyaml>=5.1\n",
            "  Downloading PyYAML-6.0-cp37-cp37m-manylinux_2_5_x86_64.manylinux1_x86_64.manylinux_2_12_x86_64.manylinux2010_x86_64.whl (596 kB)\n",
            "\u001b[K     |████████████████████████████████| 596 kB 49.2 MB/s \n",
            "\u001b[?25hRequirement already satisfied: requests in /usr/local/lib/python3.7/dist-packages (from transformers) (2.23.0)\n",
            "Requirement already satisfied: packaging>=20.0 in /usr/local/lib/python3.7/dist-packages (from transformers) (21.3)\n",
            "Requirement already satisfied: typing-extensions>=3.7.4.3 in /usr/local/lib/python3.7/dist-packages (from huggingface-hub<1.0,>=0.1.0->transformers) (4.1.1)\n",
            "Requirement already satisfied: pyparsing!=3.0.5,>=2.0.2 in /usr/local/lib/python3.7/dist-packages (from packaging>=20.0->transformers) (3.0.9)\n",
            "Requirement already satisfied: zipp>=0.5 in /usr/local/lib/python3.7/dist-packages (from importlib-metadata->transformers) (3.8.0)\n",
            "Requirement already satisfied: certifi>=2017.4.17 in /usr/local/lib/python3.7/dist-packages (from requests->transformers) (2022.6.15)\n",
            "Requirement already satisfied: idna<3,>=2.5 in /usr/local/lib/python3.7/dist-packages (from requests->transformers) (2.10)\n",
            "Requirement already satisfied: urllib3!=1.25.0,!=1.25.1,<1.26,>=1.21.1 in /usr/local/lib/python3.7/dist-packages (from requests->transformers) (1.24.3)\n",
            "Requirement already satisfied: chardet<4,>=3.0.2 in /usr/local/lib/python3.7/dist-packages (from requests->transformers) (3.0.4)\n",
            "Installing collected packages: pyyaml, tokenizers, huggingface-hub, transformers\n",
            "  Attempting uninstall: pyyaml\n",
            "    Found existing installation: PyYAML 3.13\n",
            "    Uninstalling PyYAML-3.13:\n",
            "      Successfully uninstalled PyYAML-3.13\n",
            "Successfully installed huggingface-hub-0.8.1 pyyaml-6.0 tokenizers-0.12.1 transformers-4.20.1\n"
          ]
        }
      ],
      "source": [
        "!pip install transformers"
      ]
    },
    {
      "cell_type": "code",
      "source": [
        "import numpy as np\n",
        "import pandas as pd\n",
        "from sklearn.model_selection import train_test_split\n",
        "from sklearn.linear_model import LogisticRegression\n",
        "from sklearn.model_selection import GridSearchCV\n",
        "from sklearn.model_selection import cross_val_score\n",
        "import torch\n",
        "import transformers as ppd #why ppd?\n",
        "import warnings\n",
        "warnings.filterwarnings('ignore')"
      ],
      "metadata": {
        "id": "VTLU01VZvL6l"
      },
      "execution_count": 2,
      "outputs": []
    },
    {
      "cell_type": "markdown",
      "source": [
        "import dataset"
      ],
      "metadata": {
        "id": "OHjHDTvkwKGk"
      }
    },
    {
      "cell_type": "code",
      "source": [
        "df = pd.read_csv('https://github.com/clairett/pytorch-sentiment-classification/raw/master/data/SST2/train.tsv', delimiter='\\t', header=None)"
      ],
      "metadata": {
        "id": "iMb607RRwCt-"
      },
      "execution_count": 3,
      "outputs": []
    },
    {
      "cell_type": "code",
      "source": [
        "df.head() #labeled data"
      ],
      "metadata": {
        "colab": {
          "base_uri": "https://localhost:8080/",
          "height": 206
        },
        "id": "Tr3WUlhFwMJc",
        "outputId": "62a09543-9a66-4d48-82de-b20c3fc3a267"
      },
      "execution_count": 4,
      "outputs": [
        {
          "output_type": "execute_result",
          "data": {
            "text/plain": [
              "                                                   0  1\n",
              "0  a stirring , funny and finally transporting re...  1\n",
              "1  apparently reassembled from the cutting room f...  0\n",
              "2  they presume their audience wo n't sit still f...  0\n",
              "3  this is a visually stunning rumination on love...  1\n",
              "4  jonathan parker 's bartleby should have been t...  1"
            ],
            "text/html": [
              "\n",
              "  <div id=\"df-d500bfbe-cbfd-437d-bb3d-cc7f3f93ca2a\">\n",
              "    <div class=\"colab-df-container\">\n",
              "      <div>\n",
              "<style scoped>\n",
              "    .dataframe tbody tr th:only-of-type {\n",
              "        vertical-align: middle;\n",
              "    }\n",
              "\n",
              "    .dataframe tbody tr th {\n",
              "        vertical-align: top;\n",
              "    }\n",
              "\n",
              "    .dataframe thead th {\n",
              "        text-align: right;\n",
              "    }\n",
              "</style>\n",
              "<table border=\"1\" class=\"dataframe\">\n",
              "  <thead>\n",
              "    <tr style=\"text-align: right;\">\n",
              "      <th></th>\n",
              "      <th>0</th>\n",
              "      <th>1</th>\n",
              "    </tr>\n",
              "  </thead>\n",
              "  <tbody>\n",
              "    <tr>\n",
              "      <th>0</th>\n",
              "      <td>a stirring , funny and finally transporting re...</td>\n",
              "      <td>1</td>\n",
              "    </tr>\n",
              "    <tr>\n",
              "      <th>1</th>\n",
              "      <td>apparently reassembled from the cutting room f...</td>\n",
              "      <td>0</td>\n",
              "    </tr>\n",
              "    <tr>\n",
              "      <th>2</th>\n",
              "      <td>they presume their audience wo n't sit still f...</td>\n",
              "      <td>0</td>\n",
              "    </tr>\n",
              "    <tr>\n",
              "      <th>3</th>\n",
              "      <td>this is a visually stunning rumination on love...</td>\n",
              "      <td>1</td>\n",
              "    </tr>\n",
              "    <tr>\n",
              "      <th>4</th>\n",
              "      <td>jonathan parker 's bartleby should have been t...</td>\n",
              "      <td>1</td>\n",
              "    </tr>\n",
              "  </tbody>\n",
              "</table>\n",
              "</div>\n",
              "      <button class=\"colab-df-convert\" onclick=\"convertToInteractive('df-d500bfbe-cbfd-437d-bb3d-cc7f3f93ca2a')\"\n",
              "              title=\"Convert this dataframe to an interactive table.\"\n",
              "              style=\"display:none;\">\n",
              "        \n",
              "  <svg xmlns=\"http://www.w3.org/2000/svg\" height=\"24px\"viewBox=\"0 0 24 24\"\n",
              "       width=\"24px\">\n",
              "    <path d=\"M0 0h24v24H0V0z\" fill=\"none\"/>\n",
              "    <path d=\"M18.56 5.44l.94 2.06.94-2.06 2.06-.94-2.06-.94-.94-2.06-.94 2.06-2.06.94zm-11 1L8.5 8.5l.94-2.06 2.06-.94-2.06-.94L8.5 2.5l-.94 2.06-2.06.94zm10 10l.94 2.06.94-2.06 2.06-.94-2.06-.94-.94-2.06-.94 2.06-2.06.94z\"/><path d=\"M17.41 7.96l-1.37-1.37c-.4-.4-.92-.59-1.43-.59-.52 0-1.04.2-1.43.59L10.3 9.45l-7.72 7.72c-.78.78-.78 2.05 0 2.83L4 21.41c.39.39.9.59 1.41.59.51 0 1.02-.2 1.41-.59l7.78-7.78 2.81-2.81c.8-.78.8-2.07 0-2.86zM5.41 20L4 18.59l7.72-7.72 1.47 1.35L5.41 20z\"/>\n",
              "  </svg>\n",
              "      </button>\n",
              "      \n",
              "  <style>\n",
              "    .colab-df-container {\n",
              "      display:flex;\n",
              "      flex-wrap:wrap;\n",
              "      gap: 12px;\n",
              "    }\n",
              "\n",
              "    .colab-df-convert {\n",
              "      background-color: #E8F0FE;\n",
              "      border: none;\n",
              "      border-radius: 50%;\n",
              "      cursor: pointer;\n",
              "      display: none;\n",
              "      fill: #1967D2;\n",
              "      height: 32px;\n",
              "      padding: 0 0 0 0;\n",
              "      width: 32px;\n",
              "    }\n",
              "\n",
              "    .colab-df-convert:hover {\n",
              "      background-color: #E2EBFA;\n",
              "      box-shadow: 0px 1px 2px rgba(60, 64, 67, 0.3), 0px 1px 3px 1px rgba(60, 64, 67, 0.15);\n",
              "      fill: #174EA6;\n",
              "    }\n",
              "\n",
              "    [theme=dark] .colab-df-convert {\n",
              "      background-color: #3B4455;\n",
              "      fill: #D2E3FC;\n",
              "    }\n",
              "\n",
              "    [theme=dark] .colab-df-convert:hover {\n",
              "      background-color: #434B5C;\n",
              "      box-shadow: 0px 1px 3px 1px rgba(0, 0, 0, 0.15);\n",
              "      filter: drop-shadow(0px 1px 2px rgba(0, 0, 0, 0.3));\n",
              "      fill: #FFFFFF;\n",
              "    }\n",
              "  </style>\n",
              "\n",
              "      <script>\n",
              "        const buttonEl =\n",
              "          document.querySelector('#df-d500bfbe-cbfd-437d-bb3d-cc7f3f93ca2a button.colab-df-convert');\n",
              "        buttonEl.style.display =\n",
              "          google.colab.kernel.accessAllowed ? 'block' : 'none';\n",
              "\n",
              "        async function convertToInteractive(key) {\n",
              "          const element = document.querySelector('#df-d500bfbe-cbfd-437d-bb3d-cc7f3f93ca2a');\n",
              "          const dataTable =\n",
              "            await google.colab.kernel.invokeFunction('convertToInteractive',\n",
              "                                                     [key], {});\n",
              "          if (!dataTable) return;\n",
              "\n",
              "          const docLinkHtml = 'Like what you see? Visit the ' +\n",
              "            '<a target=\"_blank\" href=https://colab.research.google.com/notebooks/data_table.ipynb>data table notebook</a>'\n",
              "            + ' to learn more about interactive tables.';\n",
              "          element.innerHTML = '';\n",
              "          dataTable['output_type'] = 'display_data';\n",
              "          await google.colab.output.renderOutput(dataTable, element);\n",
              "          const docLink = document.createElement('div');\n",
              "          docLink.innerHTML = docLinkHtml;\n",
              "          element.appendChild(docLink);\n",
              "        }\n",
              "      </script>\n",
              "    </div>\n",
              "  </div>\n",
              "  "
            ]
          },
          "metadata": {},
          "execution_count": 4
        }
      ]
    },
    {
      "cell_type": "code",
      "source": [
        "batch_1 = df[:2000]"
      ],
      "metadata": {
        "id": "sPYh4fsqwNfZ"
      },
      "execution_count": 5,
      "outputs": []
    },
    {
      "cell_type": "code",
      "source": [
        "batch_1[1].value_counts()"
      ],
      "metadata": {
        "colab": {
          "base_uri": "https://localhost:8080/"
        },
        "id": "NYAL4szTwTT5",
        "outputId": "bde471f5-73ab-4822-a58e-fbd6da7fd166"
      },
      "execution_count": 6,
      "outputs": [
        {
          "output_type": "execute_result",
          "data": {
            "text/plain": [
              "1    1041\n",
              "0     959\n",
              "Name: 1, dtype: int64"
            ]
          },
          "metadata": {},
          "execution_count": 6
        }
      ]
    },
    {
      "cell_type": "markdown",
      "source": [
        "Load BERT model"
      ],
      "metadata": {
        "id": "iiEoG30SwYuT"
      }
    },
    {
      "cell_type": "code",
      "source": [
        "model_class, tokenizer_class, pretrained_weights = (ppd.DistilBertModel, ppd.DistilBertTokenizer, 'distilbert-base-uncased')"
      ],
      "metadata": {
        "id": "zG8V_UE2wWpe"
      },
      "execution_count": 7,
      "outputs": []
    },
    {
      "cell_type": "code",
      "source": [
        "tokenizer = tokenizer_class.from_pretrained(pretrained_weights)\n",
        "model = model_class.from_pretrained(pretrained_weights)"
      ],
      "metadata": {
        "colab": {
          "base_uri": "https://localhost:8080/",
          "height": 219,
          "referenced_widgets": [
            "c878f8bf46d7425fbab26201fc5d69f0",
            "a5af3d79b57c4155a793e3a0d98d1ee4",
            "38f751e1edeb4d9e93b0b6c9f826dcc5",
            "c49fbbb8bf0441d7a4d535b010bb3a5f",
            "198a3b7d6e4c4198aaa7c259fcce70e8",
            "1d31f59a0873454bb262ba81923b23fa",
            "956e66108d6744d6bdbc00aba315a8c7",
            "c79709547b2e4723903772e36cfe93b1",
            "6f2d8203e7c84577b12165cc1a876ae8",
            "acd3c2da26224ca196f262b7d43c4e35",
            "81dddc958eb24fcea0bfdf4efdd3c0fd",
            "98b9ba9ed1fe4645bab7b78a933b197a",
            "3bd18decd41644bb9553fc0fc43e33fd",
            "e4882c3134134b50b7faa077b76cb47d",
            "d2b7469940ab43f780c3e92951834fab",
            "d2f856e8a8ba49d78c74a6b540d03997",
            "9e280616a57342cd99a08527cd0285b9",
            "61e503bdcfd44688b3b06d7512269ddf",
            "4f841b6542b34452848ca8be6ed8d046",
            "900d4973cb32403db28d7c6d8d8682b3",
            "ecda94004d364f41ac19a8dcdfe24e2a",
            "dd62ca64a58e46fbaac229acad42f1f8",
            "5b0650d10fb3409bb2570c9a961228ff",
            "eda65492cca643229eb1b8a20350931f",
            "ddea7893742748f788d85e14c8ba86bd",
            "3f7a341585b440cca1818e66f44e47aa",
            "88894489ae91447eacdf7f358bd8c804",
            "e2504705f8564c4f9b88e159c46cf86a",
            "b13f782f39bd4c70843ac33577db7b2b",
            "b0af2c1237274722b83149f6b3784c99",
            "12bbe4dd87484ab4ae62a2609e1fabba",
            "e662bde72ac3449283b4d6d7c415341a",
            "995f1f7a5f22412d90e015650c6c31f6",
            "9c52a5cc9016499e94e8154385f3de72",
            "83ca92a3472d4f709cc2a377bade8716",
            "5abebce5cf604d9e82992e14ae32d251",
            "5c8cebd6a50441589239afc67068ebae",
            "5dea4c5003b74f9793646d2c5cfa5868",
            "a8042002593b47bd880dfc6457182bd8",
            "a1d027548de844d7bcd0e71dc986d85c",
            "68a1a15feb564a25b12dd67dff347caf",
            "a4da3a38aace4ffda37733f1298f9d98",
            "b59248fadc93458c89807b4b29296502",
            "fc0899f2a31046c0a8ed95124bb9303e"
          ]
        },
        "id": "CDbKjCpYwtuR",
        "outputId": "4708d12b-d217-46d6-8061-077b95e1502a"
      },
      "execution_count": 8,
      "outputs": [
        {
          "output_type": "display_data",
          "data": {
            "text/plain": [
              "Downloading:   0%|          | 0.00/226k [00:00<?, ?B/s]"
            ],
            "application/vnd.jupyter.widget-view+json": {
              "version_major": 2,
              "version_minor": 0,
              "model_id": "c878f8bf46d7425fbab26201fc5d69f0"
            }
          },
          "metadata": {}
        },
        {
          "output_type": "display_data",
          "data": {
            "text/plain": [
              "Downloading:   0%|          | 0.00/28.0 [00:00<?, ?B/s]"
            ],
            "application/vnd.jupyter.widget-view+json": {
              "version_major": 2,
              "version_minor": 0,
              "model_id": "98b9ba9ed1fe4645bab7b78a933b197a"
            }
          },
          "metadata": {}
        },
        {
          "output_type": "display_data",
          "data": {
            "text/plain": [
              "Downloading:   0%|          | 0.00/483 [00:00<?, ?B/s]"
            ],
            "application/vnd.jupyter.widget-view+json": {
              "version_major": 2,
              "version_minor": 0,
              "model_id": "5b0650d10fb3409bb2570c9a961228ff"
            }
          },
          "metadata": {}
        },
        {
          "output_type": "display_data",
          "data": {
            "text/plain": [
              "Downloading:   0%|          | 0.00/256M [00:00<?, ?B/s]"
            ],
            "application/vnd.jupyter.widget-view+json": {
              "version_major": 2,
              "version_minor": 0,
              "model_id": "9c52a5cc9016499e94e8154385f3de72"
            }
          },
          "metadata": {}
        },
        {
          "output_type": "stream",
          "name": "stderr",
          "text": [
            "Some weights of the model checkpoint at distilbert-base-uncased were not used when initializing DistilBertModel: ['vocab_transform.weight', 'vocab_layer_norm.weight', 'vocab_layer_norm.bias', 'vocab_transform.bias', 'vocab_projector.weight', 'vocab_projector.bias']\n",
            "- This IS expected if you are initializing DistilBertModel from the checkpoint of a model trained on another task or with another architecture (e.g. initializing a BertForSequenceClassification model from a BertForPreTraining model).\n",
            "- This IS NOT expected if you are initializing DistilBertModel from the checkpoint of a model that you expect to be exactly identical (initializing a BertForSequenceClassification model from a BertForSequenceClassification model).\n"
          ]
        }
      ]
    },
    {
      "cell_type": "markdown",
      "source": [
        "preparing the dataset"
      ],
      "metadata": {
        "id": "W6TLsF6BxAXf"
      }
    },
    {
      "cell_type": "code",
      "source": [
        "tokenized = batch_1[0].apply((lambda x: tokenizer.encode(x, add_special_tokens=True)))"
      ],
      "metadata": {
        "id": "fbGl2o4Tw5Oe"
      },
      "execution_count": 9,
      "outputs": []
    },
    {
      "cell_type": "code",
      "source": [
        "batch_1[0][:5]"
      ],
      "metadata": {
        "colab": {
          "base_uri": "https://localhost:8080/"
        },
        "id": "OWN9X9QvxWOC",
        "outputId": "b5fb8a22-7403-4e7d-8f98-ab1f3a44d7fa"
      },
      "execution_count": 11,
      "outputs": [
        {
          "output_type": "execute_result",
          "data": {
            "text/plain": [
              "0    a stirring , funny and finally transporting re...\n",
              "1    apparently reassembled from the cutting room f...\n",
              "2    they presume their audience wo n't sit still f...\n",
              "3    this is a visually stunning rumination on love...\n",
              "4    jonathan parker 's bartleby should have been t...\n",
              "Name: 0, dtype: object"
            ]
          },
          "metadata": {},
          "execution_count": 11
        }
      ]
    },
    {
      "cell_type": "code",
      "source": [
        "tokenized #101=[CLS]"
      ],
      "metadata": {
        "colab": {
          "base_uri": "https://localhost:8080/"
        },
        "id": "HyoOyzSLxQyC",
        "outputId": "8c152dc9-8ca8-48ec-d5af-1d478aee6a80"
      },
      "execution_count": 10,
      "outputs": [
        {
          "output_type": "execute_result",
          "data": {
            "text/plain": [
              "0       [101, 1037, 18385, 1010, 6057, 1998, 2633, 182...\n",
              "1       [101, 4593, 2128, 27241, 23931, 2013, 1996, 62...\n",
              "2       [101, 2027, 3653, 23545, 2037, 4378, 24185, 10...\n",
              "3       [101, 2023, 2003, 1037, 17453, 14726, 19379, 1...\n",
              "4       [101, 5655, 6262, 1005, 1055, 12075, 2571, 376...\n",
              "                              ...                        \n",
              "1995    [101, 2205, 20857, 1998, 11865, 16643, 2135, 5...\n",
              "1996    [101, 2009, 2515, 1050, 1005, 1056, 2147, 2004...\n",
              "1997    [101, 2023, 2028, 8704, 2005, 1996, 11848, 199...\n",
              "1998    [101, 1999, 1996, 2171, 1997, 2019, 9382, 1898...\n",
              "1999    [101, 1996, 3185, 2003, 25757, 2011, 1037, 244...\n",
              "Name: 0, Length: 2000, dtype: object"
            ]
          },
          "metadata": {},
          "execution_count": 10
        }
      ]
    },
    {
      "cell_type": "code",
      "source": [
        "tokenized.values[0]"
      ],
      "metadata": {
        "colab": {
          "base_uri": "https://localhost:8080/"
        },
        "id": "h0FVRgxrx2Em",
        "outputId": "2a561d2b-ca37-4d57-e4ee-78e9f0ef608e"
      },
      "execution_count": 14,
      "outputs": [
        {
          "output_type": "execute_result",
          "data": {
            "text/plain": [
              "[101,\n",
              " 1037,\n",
              " 18385,\n",
              " 1010,\n",
              " 6057,\n",
              " 1998,\n",
              " 2633,\n",
              " 18276,\n",
              " 2128,\n",
              " 16603,\n",
              " 1997,\n",
              " 5053,\n",
              " 1998,\n",
              " 1996,\n",
              " 6841,\n",
              " 1998,\n",
              " 5687,\n",
              " 5469,\n",
              " 3152,\n",
              " 102]"
            ]
          },
          "metadata": {},
          "execution_count": 14
        }
      ]
    },
    {
      "cell_type": "code",
      "source": [
        "max_len = 0\n",
        "for i in tokenized.values:\n",
        "    if len(i)>max_len:\n",
        "        max_len = len(i)\n",
        "padded = np.array([i + [0]*(max_len-len(i)) for i in tokenized.values]) #max_lenとの差分、末尾に0を追加"
      ],
      "metadata": {
        "id": "cfXWR-xixS_N"
      },
      "execution_count": 12,
      "outputs": []
    },
    {
      "cell_type": "code",
      "source": [
        "np.array(padded).shape"
      ],
      "metadata": {
        "colab": {
          "base_uri": "https://localhost:8080/"
        },
        "id": "nHarMV2Sx3_O",
        "outputId": "3cfef280-f500-4b63-cc89-f3669d872f75"
      },
      "execution_count": 15,
      "outputs": [
        {
          "output_type": "execute_result",
          "data": {
            "text/plain": [
              "(2000, 59)"
            ]
          },
          "metadata": {},
          "execution_count": 15
        }
      ]
    },
    {
      "cell_type": "code",
      "source": [
        "#paddingされているもの(0)を0, それ以外を1\n",
        "attention_mask = np.where(padded != 0, 1, 0)\n",
        "attention_mask.shape"
      ],
      "metadata": {
        "colab": {
          "base_uri": "https://localhost:8080/"
        },
        "id": "ddR7_cxkyN5d",
        "outputId": "31df6dd4-e8fd-49fd-c23e-f2b5a9e4e8bf"
      },
      "execution_count": 17,
      "outputs": [
        {
          "output_type": "execute_result",
          "data": {
            "text/plain": [
              "(2000, 59)"
            ]
          },
          "metadata": {},
          "execution_count": 17
        }
      ]
    },
    {
      "cell_type": "markdown",
      "source": [
        "Let's Deep Learning"
      ],
      "metadata": {
        "id": "6f2fuqn5ynfp"
      }
    },
    {
      "cell_type": "code",
      "source": [
        "input_ids = torch.tensor(padded)\n",
        "attention_mask = torch.tensor(attention_mask)\n",
        "with torch.no_grad():\n",
        "    last_hidden_states = model(input_ids, attention_mask=attention_mask)"
      ],
      "metadata": {
        "id": "tTKG8EIfybJG"
      },
      "execution_count": 19,
      "outputs": []
    },
    {
      "cell_type": "markdown",
      "source": [
        "![image.png](data:image/png;base64,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)"
      ],
      "metadata": {
        "id": "Qd2rOXwV0ZhR"
      }
    },
    {
      "cell_type": "code",
      "source": [
        "features = last_hidden_states[0][:, 0, :].numpy()"
      ],
      "metadata": {
        "id": "MXDAUA8my_Ui"
      },
      "execution_count": 20,
      "outputs": []
    },
    {
      "cell_type": "code",
      "source": [
        "labels = batch_1[1]"
      ],
      "metadata": {
        "id": "XSHdWo6Yz88t"
      },
      "execution_count": 28,
      "outputs": []
    },
    {
      "cell_type": "code",
      "source": [
        "train_features, test_features, train_labels, test_labels = train_test_split(features, labels)"
      ],
      "metadata": {
        "id": "Bm9u_d7w0jvY"
      },
      "execution_count": 29,
      "outputs": []
    },
    {
      "cell_type": "code",
      "source": [
        "# Grid Search\n",
        "# parameters = {'C': np.linspace(0.0001, 100, 20)}\n",
        "# grid_search = GridSearchCV(LogisticRegression(), parameters)\n",
        "# grid_search.fit(train_features, train_labels)\n",
        "\n",
        "# print('best parameters: ', grid_search.best_params_)\n",
        "# print('best scrores: ', grid_search.best_score_)"
      ],
      "metadata": {
        "id": "NUxt-wE50kOM"
      },
      "execution_count": 30,
      "outputs": []
    },
    {
      "cell_type": "code",
      "source": [
        "lr_clf = LogisticRegression()\n",
        "lr_clf.fit(train_features, train_labels)"
      ],
      "metadata": {
        "colab": {
          "base_uri": "https://localhost:8080/"
        },
        "id": "WMKvd-3v0uFq",
        "outputId": "643948f0-4863-47fe-c6a7-99fdacbb9c46"
      },
      "execution_count": 31,
      "outputs": [
        {
          "output_type": "execute_result",
          "data": {
            "text/plain": [
              "LogisticRegression()"
            ]
          },
          "metadata": {},
          "execution_count": 31
        }
      ]
    },
    {
      "cell_type": "code",
      "source": [
        "lr_clf.score(test_features, test_labels)"
      ],
      "metadata": {
        "colab": {
          "base_uri": "https://localhost:8080/"
        },
        "id": "dpTWv9jl01vN",
        "outputId": "8543a99e-d36d-4968-80c2-21cf7b31e887"
      },
      "execution_count": 32,
      "outputs": [
        {
          "output_type": "execute_result",
          "data": {
            "text/plain": [
              "0.82"
            ]
          },
          "metadata": {},
          "execution_count": 32
        }
      ]
    },
    {
      "cell_type": "markdown",
      "source": [
        "BERT でやってみる"
      ],
      "metadata": {
        "id": "vVcZKSC11UbL"
      }
    },
    {
      "cell_type": "code",
      "source": [
        "model_class, tokenizer_class, pretrained_weights = (ppd.BertModel, ppd.BertTokenizer, 'bert-base-uncased')"
      ],
      "metadata": {
        "id": "qA4178-b07cJ"
      },
      "execution_count": 33,
      "outputs": []
    },
    {
      "cell_type": "code",
      "source": [
        "tokenizer = tokenizer_class.from_pretrained(pretrained_weights)\n",
        "model = model_class.from_pretrained(pretrained_weights)"
      ],
      "metadata": {
        "colab": {
          "base_uri": "https://localhost:8080/",
          "height": 219,
          "referenced_widgets": [
            "eaa5a8a2cb9f484a82f840b8291eeaeb",
            "7078df5d991949d09aa57fa02713fda9",
            "ce94ff95d05c4b2781e5613fa19023d0",
            "9118d8e4c1e546bca980d6df6bd8e14d",
            "11fc7d45691643c98b7ab2ccce533aea",
            "9f011977a8714066908b066c59fa258b",
            "6417665b743b48e996852dfa349b2b07",
            "9cbf6784a4794da0849fb728143b696e",
            "6673075b632b4f8b8403f78d2545c491",
            "295170e792ba4b7e92481cda673714cb",
            "7887c338da784fdda99c00a2de9cd57d",
            "3b22d18aaa96493b9f530ea081d4a8c1",
            "2583f2db17ec475ba931952a5027bb6f",
            "156c2d424ba94450b365400e63487432",
            "947b7f2e130e4ee4ad7c1e4a7e73ca6e",
            "1ec150b2d0bb49a68e6347228d6738f9",
            "096e53d2cf63484fac842d7e825d18c0",
            "c1d26a2c64344fac998413b4d762b5bf",
            "4eb00cb8251b42249313f336cd5df5a3",
            "f87bedcb7cb84311b036e560c81dbc57",
            "4c6c6a084ab44b4fa294bc8ec0db164f",
            "2d7f5802d7bd45d9a175a6f8400fda09",
            "ad67fa1de6cd4303adcaf68f87fc45f0",
            "db2bc6292d054a9e9ed8b3f2efc3882e",
            "5424b8eb7bdf4ea5b42c0c43991f5968",
            "102c02032d2a429bb2eaf4b07583a5c7",
            "a0058ded7e1a4e01b34d3689b650ee48",
            "57695d495974476183f6c01bf0c44360",
            "fca943912f334c71bf7115821ac25a20",
            "f53c69e1e844477684092f638f5cc08b",
            "074d7ac6f63e4724999a25117a1693e3",
            "156bc45f60334948821463b41e1a1037",
            "b22e0f2cc3724e7b93421d0bb6072460",
            "9a5282cead434fe7adbaf1d9d9fbb006",
            "de0bf34bf88f4c4f814a8259c74056da",
            "2a56603764a14129a0ee103d16f6a782",
            "e08cedb388564ee189d54528bfac2c18",
            "34a231a52e814febaa1c44080c374147",
            "26e4cc5d0dff4d149637abbe5dc9a5f6",
            "3bf2ec1d278644ae9c53e49a645e4eff",
            "b13faeed8fba4675b12e21b5d2bb1d54",
            "4c3196a71e9b46abb932133b1add228f",
            "daaf3348643a40e6b3a318252c979efa",
            "77895337b9a14dfa8a3aa469b88bd01d"
          ]
        },
        "id": "CwCHIB8Q1rmV",
        "outputId": "a2dd1d23-0904-4423-a0c0-a7e47c57ce6d"
      },
      "execution_count": 34,
      "outputs": [
        {
          "output_type": "display_data",
          "data": {
            "text/plain": [
              "Downloading:   0%|          | 0.00/226k [00:00<?, ?B/s]"
            ],
            "application/vnd.jupyter.widget-view+json": {
              "version_major": 2,
              "version_minor": 0,
              "model_id": "eaa5a8a2cb9f484a82f840b8291eeaeb"
            }
          },
          "metadata": {}
        },
        {
          "output_type": "display_data",
          "data": {
            "text/plain": [
              "Downloading:   0%|          | 0.00/28.0 [00:00<?, ?B/s]"
            ],
            "application/vnd.jupyter.widget-view+json": {
              "version_major": 2,
              "version_minor": 0,
              "model_id": "3b22d18aaa96493b9f530ea081d4a8c1"
            }
          },
          "metadata": {}
        },
        {
          "output_type": "display_data",
          "data": {
            "text/plain": [
              "Downloading:   0%|          | 0.00/570 [00:00<?, ?B/s]"
            ],
            "application/vnd.jupyter.widget-view+json": {
              "version_major": 2,
              "version_minor": 0,
              "model_id": "ad67fa1de6cd4303adcaf68f87fc45f0"
            }
          },
          "metadata": {}
        },
        {
          "output_type": "display_data",
          "data": {
            "text/plain": [
              "Downloading:   0%|          | 0.00/420M [00:00<?, ?B/s]"
            ],
            "application/vnd.jupyter.widget-view+json": {
              "version_major": 2,
              "version_minor": 0,
              "model_id": "9a5282cead434fe7adbaf1d9d9fbb006"
            }
          },
          "metadata": {}
        },
        {
          "output_type": "stream",
          "name": "stderr",
          "text": [
            "Some weights of the model checkpoint at bert-base-uncased were not used when initializing BertModel: ['cls.seq_relationship.weight', 'cls.predictions.transform.LayerNorm.weight', 'cls.predictions.transform.LayerNorm.bias', 'cls.seq_relationship.bias', 'cls.predictions.bias', 'cls.predictions.transform.dense.weight', 'cls.predictions.transform.dense.bias', 'cls.predictions.decoder.weight']\n",
            "- This IS expected if you are initializing BertModel from the checkpoint of a model trained on another task or with another architecture (e.g. initializing a BertForSequenceClassification model from a BertForPreTraining model).\n",
            "- This IS NOT expected if you are initializing BertModel from the checkpoint of a model that you expect to be exactly identical (initializing a BertForSequenceClassification model from a BertForSequenceClassification model).\n"
          ]
        }
      ]
    },
    {
      "cell_type": "code",
      "source": [
        "tokenized = batch_1[0].apply((lambda x: tokenizer.encode(x, add_special_tokens=True)))"
      ],
      "metadata": {
        "id": "Z_zl8EG-1u5s"
      },
      "execution_count": 35,
      "outputs": []
    },
    {
      "cell_type": "code",
      "source": [
        "max_len = 0\n",
        "for i in tokenized.values:\n",
        "    if len(i)>max_len:\n",
        "        max_len = len(i)\n",
        "padded = np.array([i + [0]*(max_len-len(i)) for i in tokenized.values])\n",
        "attention_mask = np.where(padded != 0, 1, 0)"
      ],
      "metadata": {
        "id": "sF7QlK7e16id"
      },
      "execution_count": 37,
      "outputs": []
    },
    {
      "cell_type": "code",
      "source": [
        "input_ids = torch.tensor(padded)\n",
        "attention_mask = torch.tensor(attention_mask)\n",
        "with torch.no_grad():\n",
        "    last_hidden_states = model(input_ids, attention_mask=attention_mask)"
      ],
      "metadata": {
        "id": "gTlocbNx15SA"
      },
      "execution_count": 38,
      "outputs": []
    },
    {
      "cell_type": "code",
      "source": [
        "features = last_hidden_states[0][:, 0, :].numpy()\n",
        "labels = batch_1[1]\n",
        "train_features, test_features, train_labels, test_labels = train_test_split(features, labels)\n",
        "lr_clf = LogisticRegression()\n",
        "lr_clf.fit(train_features, train_labels)\n",
        "lr_clf.score(test_features, test_labels)"
      ],
      "metadata": {
        "colab": {
          "base_uri": "https://localhost:8080/"
        },
        "id": "kPe9aRRl2ByP",
        "outputId": "79aa007f-a00f-439e-8f98-e0f12d75af8d"
      },
      "execution_count": 39,
      "outputs": [
        {
          "output_type": "execute_result",
          "data": {
            "text/plain": [
              "0.836"
            ]
          },
          "metadata": {},
          "execution_count": 39
        }
      ]
    },
    {
      "cell_type": "markdown",
      "source": [
        "ちょっとしか上がらんな！"
      ],
      "metadata": {
        "id": "40kKzkXY37fE"
      }
    },
    {
      "cell_type": "code",
      "source": [
        ""
      ],
      "metadata": {
        "id": "WPJJEtJ-358V"
      },
      "execution_count": null,
      "outputs": []
    }
  ]
}